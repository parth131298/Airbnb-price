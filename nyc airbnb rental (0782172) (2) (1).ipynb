{
 "cells": [
  {
   "cell_type": "code",
   "execution_count": 1,
   "id": "eb9a8716",
   "metadata": {},
   "outputs": [],
   "source": [
    "import numpy as np\n",
    "import pandas as pd\n",
    "import sklearn as sk\n",
    "import seaborn as sb\n",
    "import matplotlib.pyplot as plt\n",
    "import warnings\n",
    "warnings.filterwarnings('ignore')\n",
    "pd.set_option('display.max_columns',None)"
   ]
  },
  {
   "cell_type": "code",
   "execution_count": 2,
   "id": "755441fc",
   "metadata": {},
   "outputs": [
    {
     "data": {
      "text/html": [
       "<div>\n",
       "<style scoped>\n",
       "    .dataframe tbody tr th:only-of-type {\n",
       "        vertical-align: middle;\n",
       "    }\n",
       "\n",
       "    .dataframe tbody tr th {\n",
       "        vertical-align: top;\n",
       "    }\n",
       "\n",
       "    .dataframe thead th {\n",
       "        text-align: right;\n",
       "    }\n",
       "</style>\n",
       "<table border=\"1\" class=\"dataframe\">\n",
       "  <thead>\n",
       "    <tr style=\"text-align: right;\">\n",
       "      <th></th>\n",
       "      <th>id</th>\n",
       "      <th>name</th>\n",
       "      <th>host_id</th>\n",
       "      <th>host_name</th>\n",
       "      <th>neighbourhood_group</th>\n",
       "      <th>neighbourhood</th>\n",
       "      <th>latitude</th>\n",
       "      <th>longitude</th>\n",
       "      <th>room_type</th>\n",
       "      <th>price</th>\n",
       "      <th>minimum_nights</th>\n",
       "      <th>number_of_reviews</th>\n",
       "      <th>last_review</th>\n",
       "      <th>reviews_per_month</th>\n",
       "      <th>calculated_host_listings_count</th>\n",
       "      <th>availability_365</th>\n",
       "      <th>number_of_reviews_ltm</th>\n",
       "      <th>license</th>\n",
       "    </tr>\n",
       "  </thead>\n",
       "  <tbody>\n",
       "    <tr>\n",
       "      <th>0</th>\n",
       "      <td>2595.0</td>\n",
       "      <td>Skylit Midtown Castle</td>\n",
       "      <td>2845</td>\n",
       "      <td>Jennifer</td>\n",
       "      <td>Manhattan</td>\n",
       "      <td>Midtown</td>\n",
       "      <td>40.75356</td>\n",
       "      <td>-73.98559</td>\n",
       "      <td>Entire home/apt</td>\n",
       "      <td>150</td>\n",
       "      <td>30</td>\n",
       "      <td>48</td>\n",
       "      <td>11/4/2019</td>\n",
       "      <td>0.32</td>\n",
       "      <td>3</td>\n",
       "      <td>334</td>\n",
       "      <td>0</td>\n",
       "      <td>NaN</td>\n",
       "    </tr>\n",
       "    <tr>\n",
       "      <th>1</th>\n",
       "      <td>5121.0</td>\n",
       "      <td>BlissArtsSpace!</td>\n",
       "      <td>7356</td>\n",
       "      <td>Garon</td>\n",
       "      <td>Brooklyn</td>\n",
       "      <td>Bedford-Stuyvesant</td>\n",
       "      <td>40.68535</td>\n",
       "      <td>-73.95512</td>\n",
       "      <td>Private room</td>\n",
       "      <td>60</td>\n",
       "      <td>30</td>\n",
       "      <td>50</td>\n",
       "      <td>12/2/2019</td>\n",
       "      <td>0.32</td>\n",
       "      <td>2</td>\n",
       "      <td>365</td>\n",
       "      <td>0</td>\n",
       "      <td>NaN</td>\n",
       "    </tr>\n",
       "    <tr>\n",
       "      <th>2</th>\n",
       "      <td>5136.0</td>\n",
       "      <td>Spacious Brooklyn Duplex, Patio + Garden</td>\n",
       "      <td>7378</td>\n",
       "      <td>Rebecca</td>\n",
       "      <td>Brooklyn</td>\n",
       "      <td>Sunset Park</td>\n",
       "      <td>40.66265</td>\n",
       "      <td>-73.99454</td>\n",
       "      <td>Entire home/apt</td>\n",
       "      <td>275</td>\n",
       "      <td>5</td>\n",
       "      <td>2</td>\n",
       "      <td>8/8/2021</td>\n",
       "      <td>0.02</td>\n",
       "      <td>1</td>\n",
       "      <td>201</td>\n",
       "      <td>1</td>\n",
       "      <td>NaN</td>\n",
       "    </tr>\n",
       "    <tr>\n",
       "      <th>3</th>\n",
       "      <td>5178.0</td>\n",
       "      <td>Large Furnished Room Near B'way</td>\n",
       "      <td>8967</td>\n",
       "      <td>Shunichi</td>\n",
       "      <td>Manhattan</td>\n",
       "      <td>Midtown</td>\n",
       "      <td>40.76457</td>\n",
       "      <td>-73.98317</td>\n",
       "      <td>Private room</td>\n",
       "      <td>68</td>\n",
       "      <td>2</td>\n",
       "      <td>520</td>\n",
       "      <td>2/18/2022</td>\n",
       "      <td>3.33</td>\n",
       "      <td>1</td>\n",
       "      <td>154</td>\n",
       "      <td>46</td>\n",
       "      <td>NaN</td>\n",
       "    </tr>\n",
       "    <tr>\n",
       "      <th>4</th>\n",
       "      <td>5203.0</td>\n",
       "      <td>Cozy Clean Guest Room - Family Apt</td>\n",
       "      <td>7490</td>\n",
       "      <td>MaryEllen</td>\n",
       "      <td>Manhattan</td>\n",
       "      <td>Upper West Side</td>\n",
       "      <td>40.80380</td>\n",
       "      <td>-73.96751</td>\n",
       "      <td>Private room</td>\n",
       "      <td>75</td>\n",
       "      <td>2</td>\n",
       "      <td>118</td>\n",
       "      <td>7/21/2017</td>\n",
       "      <td>0.77</td>\n",
       "      <td>1</td>\n",
       "      <td>0</td>\n",
       "      <td>0</td>\n",
       "      <td>NaN</td>\n",
       "    </tr>\n",
       "  </tbody>\n",
       "</table>\n",
       "</div>"
      ],
      "text/plain": [
       "       id                                      name  host_id  host_name  \\\n",
       "0  2595.0                     Skylit Midtown Castle     2845   Jennifer   \n",
       "1  5121.0                           BlissArtsSpace!     7356      Garon   \n",
       "2  5136.0  Spacious Brooklyn Duplex, Patio + Garden     7378    Rebecca   \n",
       "3  5178.0          Large Furnished Room Near B'way　     8967   Shunichi   \n",
       "4  5203.0        Cozy Clean Guest Room - Family Apt     7490  MaryEllen   \n",
       "\n",
       "  neighbourhood_group       neighbourhood  latitude  longitude  \\\n",
       "0           Manhattan             Midtown  40.75356  -73.98559   \n",
       "1            Brooklyn  Bedford-Stuyvesant  40.68535  -73.95512   \n",
       "2            Brooklyn         Sunset Park  40.66265  -73.99454   \n",
       "3           Manhattan             Midtown  40.76457  -73.98317   \n",
       "4           Manhattan     Upper West Side  40.80380  -73.96751   \n",
       "\n",
       "         room_type  price  minimum_nights  number_of_reviews last_review  \\\n",
       "0  Entire home/apt    150              30                 48   11/4/2019   \n",
       "1     Private room     60              30                 50   12/2/2019   \n",
       "2  Entire home/apt    275               5                  2    8/8/2021   \n",
       "3     Private room     68               2                520   2/18/2022   \n",
       "4     Private room     75               2                118   7/21/2017   \n",
       "\n",
       "   reviews_per_month  calculated_host_listings_count  availability_365  \\\n",
       "0               0.32                               3               334   \n",
       "1               0.32                               2               365   \n",
       "2               0.02                               1               201   \n",
       "3               3.33                               1               154   \n",
       "4               0.77                               1                 0   \n",
       "\n",
       "   number_of_reviews_ltm license  \n",
       "0                      0     NaN  \n",
       "1                      0     NaN  \n",
       "2                      1     NaN  \n",
       "3                     46     NaN  \n",
       "4                      0     NaN  "
      ]
     },
     "execution_count": 2,
     "metadata": {},
     "output_type": "execute_result"
    }
   ],
   "source": [
    "df = pd.read_csv(\"C:\\\\Users\\\\DELL\\\\Desktop\\\\newyork city airbnb.csv\")\n",
    "df.head()"
   ]
  },
  {
   "cell_type": "code",
   "execution_count": 3,
   "id": "1d749a3d",
   "metadata": {
    "scrolled": true
   },
   "outputs": [
    {
     "data": {
      "text/html": [
       "<div>\n",
       "<style scoped>\n",
       "    .dataframe tbody tr th:only-of-type {\n",
       "        vertical-align: middle;\n",
       "    }\n",
       "\n",
       "    .dataframe tbody tr th {\n",
       "        vertical-align: top;\n",
       "    }\n",
       "\n",
       "    .dataframe thead th {\n",
       "        text-align: right;\n",
       "    }\n",
       "</style>\n",
       "<table border=\"1\" class=\"dataframe\">\n",
       "  <thead>\n",
       "    <tr style=\"text-align: right;\">\n",
       "      <th></th>\n",
       "      <th>id</th>\n",
       "      <th>name</th>\n",
       "      <th>host_id</th>\n",
       "      <th>host_name</th>\n",
       "      <th>neighbourhood_group</th>\n",
       "      <th>neighbourhood</th>\n",
       "      <th>latitude</th>\n",
       "      <th>longitude</th>\n",
       "      <th>room_type</th>\n",
       "      <th>price</th>\n",
       "      <th>minimum_nights</th>\n",
       "      <th>number_of_reviews</th>\n",
       "      <th>last_review</th>\n",
       "      <th>reviews_per_month</th>\n",
       "      <th>calculated_host_listings_count</th>\n",
       "      <th>availability_365</th>\n",
       "      <th>number_of_reviews_ltm</th>\n",
       "      <th>license</th>\n",
       "    </tr>\n",
       "  </thead>\n",
       "  <tbody>\n",
       "    <tr>\n",
       "      <th>37626</th>\n",
       "      <td>5.750000e+17</td>\n",
       "      <td>Queens flushing.  Very convenient area.</td>\n",
       "      <td>204704622</td>\n",
       "      <td>Momoyo</td>\n",
       "      <td>Queens</td>\n",
       "      <td>Flushing</td>\n",
       "      <td>40.765396</td>\n",
       "      <td>-73.820677</td>\n",
       "      <td>Private room</td>\n",
       "      <td>27</td>\n",
       "      <td>30</td>\n",
       "      <td>0</td>\n",
       "      <td>NaN</td>\n",
       "      <td>NaN</td>\n",
       "      <td>126</td>\n",
       "      <td>57</td>\n",
       "      <td>0</td>\n",
       "      <td>NaN</td>\n",
       "    </tr>\n",
       "    <tr>\n",
       "      <th>37627</th>\n",
       "      <td>5.750000e+17</td>\n",
       "      <td>CONTACT BEFORE YOU BOOK R2</td>\n",
       "      <td>192407842</td>\n",
       "      <td>Aron</td>\n",
       "      <td>Manhattan</td>\n",
       "      <td>Harlem</td>\n",
       "      <td>40.826026</td>\n",
       "      <td>-73.950669</td>\n",
       "      <td>Private room</td>\n",
       "      <td>35</td>\n",
       "      <td>60</td>\n",
       "      <td>0</td>\n",
       "      <td>NaN</td>\n",
       "      <td>NaN</td>\n",
       "      <td>7</td>\n",
       "      <td>365</td>\n",
       "      <td>0</td>\n",
       "      <td>NaN</td>\n",
       "    </tr>\n",
       "    <tr>\n",
       "      <th>37628</th>\n",
       "      <td>5.750000e+17</td>\n",
       "      <td>CONTACT BEFORE YOU BOOK R1</td>\n",
       "      <td>192407842</td>\n",
       "      <td>Aron</td>\n",
       "      <td>Manhattan</td>\n",
       "      <td>Harlem</td>\n",
       "      <td>40.826355</td>\n",
       "      <td>-73.951875</td>\n",
       "      <td>Private room</td>\n",
       "      <td>28</td>\n",
       "      <td>30</td>\n",
       "      <td>0</td>\n",
       "      <td>NaN</td>\n",
       "      <td>NaN</td>\n",
       "      <td>7</td>\n",
       "      <td>334</td>\n",
       "      <td>0</td>\n",
       "      <td>NaN</td>\n",
       "    </tr>\n",
       "    <tr>\n",
       "      <th>37629</th>\n",
       "      <td>5.750000e+17</td>\n",
       "      <td>Super cosy and charming apartment</td>\n",
       "      <td>319140756</td>\n",
       "      <td>Andrea</td>\n",
       "      <td>Manhattan</td>\n",
       "      <td>Lower East Side</td>\n",
       "      <td>40.720062</td>\n",
       "      <td>-73.984825</td>\n",
       "      <td>Private room</td>\n",
       "      <td>84</td>\n",
       "      <td>1</td>\n",
       "      <td>0</td>\n",
       "      <td>NaN</td>\n",
       "      <td>NaN</td>\n",
       "      <td>1</td>\n",
       "      <td>357</td>\n",
       "      <td>0</td>\n",
       "      <td>NaN</td>\n",
       "    </tr>\n",
       "    <tr>\n",
       "      <th>37630</th>\n",
       "      <td>5.750000e+17</td>\n",
       "      <td>Well-kept apartment home | 2BR in New York</td>\n",
       "      <td>368944610</td>\n",
       "      <td>Casey</td>\n",
       "      <td>Manhattan</td>\n",
       "      <td>Murray Hill</td>\n",
       "      <td>40.743930</td>\n",
       "      <td>-73.973500</td>\n",
       "      <td>Entire home/apt</td>\n",
       "      <td>412</td>\n",
       "      <td>31</td>\n",
       "      <td>0</td>\n",
       "      <td>NaN</td>\n",
       "      <td>NaN</td>\n",
       "      <td>84</td>\n",
       "      <td>358</td>\n",
       "      <td>0</td>\n",
       "      <td>NaN</td>\n",
       "    </tr>\n",
       "  </tbody>\n",
       "</table>\n",
       "</div>"
      ],
      "text/plain": [
       "                 id                                        name    host_id  \\\n",
       "37626  5.750000e+17     Queens flushing.  Very convenient area.  204704622   \n",
       "37627  5.750000e+17                  CONTACT BEFORE YOU BOOK R2  192407842   \n",
       "37628  5.750000e+17                  CONTACT BEFORE YOU BOOK R1  192407842   \n",
       "37629  5.750000e+17           Super cosy and charming apartment  319140756   \n",
       "37630  5.750000e+17  Well-kept apartment home | 2BR in New York  368944610   \n",
       "\n",
       "      host_name neighbourhood_group    neighbourhood   latitude  longitude  \\\n",
       "37626    Momoyo              Queens         Flushing  40.765396 -73.820677   \n",
       "37627      Aron           Manhattan           Harlem  40.826026 -73.950669   \n",
       "37628      Aron           Manhattan           Harlem  40.826355 -73.951875   \n",
       "37629    Andrea           Manhattan  Lower East Side  40.720062 -73.984825   \n",
       "37630     Casey           Manhattan      Murray Hill  40.743930 -73.973500   \n",
       "\n",
       "             room_type  price  minimum_nights  number_of_reviews last_review  \\\n",
       "37626     Private room     27              30                  0         NaN   \n",
       "37627     Private room     35              60                  0         NaN   \n",
       "37628     Private room     28              30                  0         NaN   \n",
       "37629     Private room     84               1                  0         NaN   \n",
       "37630  Entire home/apt    412              31                  0         NaN   \n",
       "\n",
       "       reviews_per_month  calculated_host_listings_count  availability_365  \\\n",
       "37626                NaN                             126                57   \n",
       "37627                NaN                               7               365   \n",
       "37628                NaN                               7               334   \n",
       "37629                NaN                               1               357   \n",
       "37630                NaN                              84               358   \n",
       "\n",
       "       number_of_reviews_ltm license  \n",
       "37626                      0     NaN  \n",
       "37627                      0     NaN  \n",
       "37628                      0     NaN  \n",
       "37629                      0     NaN  \n",
       "37630                      0     NaN  "
      ]
     },
     "execution_count": 3,
     "metadata": {},
     "output_type": "execute_result"
    }
   ],
   "source": [
    "df.tail()"
   ]
  },
  {
   "cell_type": "code",
   "execution_count": 4,
   "id": "1fd45c55",
   "metadata": {
    "scrolled": true
   },
   "outputs": [
    {
     "data": {
      "text/plain": [
       "(37631, 18)"
      ]
     },
     "execution_count": 4,
     "metadata": {},
     "output_type": "execute_result"
    }
   ],
   "source": [
    "df.shape"
   ]
  },
  {
   "cell_type": "code",
   "execution_count": 5,
   "id": "372d7740",
   "metadata": {},
   "outputs": [],
   "source": [
    "df['latest_review'] = pd.to_datetime(df['last_review'])"
   ]
  },
  {
   "cell_type": "code",
   "execution_count": 6,
   "id": "95474622",
   "metadata": {},
   "outputs": [
    {
     "data": {
      "text/plain": [
       "id                                       float64\n",
       "name                                      object\n",
       "host_id                                    int64\n",
       "host_name                                 object\n",
       "neighbourhood_group                       object\n",
       "neighbourhood                             object\n",
       "latitude                                 float64\n",
       "longitude                                float64\n",
       "room_type                                 object\n",
       "price                                      int64\n",
       "minimum_nights                             int64\n",
       "number_of_reviews                          int64\n",
       "last_review                               object\n",
       "reviews_per_month                        float64\n",
       "calculated_host_listings_count             int64\n",
       "availability_365                           int64\n",
       "number_of_reviews_ltm                      int64\n",
       "license                                   object\n",
       "latest_review                     datetime64[ns]\n",
       "dtype: object"
      ]
     },
     "execution_count": 6,
     "metadata": {},
     "output_type": "execute_result"
    }
   ],
   "source": [
    "df.dtypes"
   ]
  },
  {
   "cell_type": "code",
   "execution_count": 7,
   "id": "8b16e6e9",
   "metadata": {
    "scrolled": false
   },
   "outputs": [
    {
     "data": {
      "text/html": [
       "<div>\n",
       "<style scoped>\n",
       "    .dataframe tbody tr th:only-of-type {\n",
       "        vertical-align: middle;\n",
       "    }\n",
       "\n",
       "    .dataframe tbody tr th {\n",
       "        vertical-align: top;\n",
       "    }\n",
       "\n",
       "    .dataframe thead th {\n",
       "        text-align: right;\n",
       "    }\n",
       "</style>\n",
       "<table border=\"1\" class=\"dataframe\">\n",
       "  <thead>\n",
       "    <tr style=\"text-align: right;\">\n",
       "      <th></th>\n",
       "      <th>id</th>\n",
       "      <th>name</th>\n",
       "      <th>host_id</th>\n",
       "      <th>host_name</th>\n",
       "      <th>neighbourhood_group</th>\n",
       "      <th>neighbourhood</th>\n",
       "      <th>latitude</th>\n",
       "      <th>longitude</th>\n",
       "      <th>room_type</th>\n",
       "      <th>price</th>\n",
       "      <th>minimum_nights</th>\n",
       "      <th>number_of_reviews</th>\n",
       "      <th>last_review</th>\n",
       "      <th>reviews_per_month</th>\n",
       "      <th>calculated_host_listings_count</th>\n",
       "      <th>availability_365</th>\n",
       "      <th>number_of_reviews_ltm</th>\n",
       "      <th>license</th>\n",
       "      <th>latest_review</th>\n",
       "    </tr>\n",
       "  </thead>\n",
       "  <tbody>\n",
       "    <tr>\n",
       "      <th>0</th>\n",
       "      <td>2595.0</td>\n",
       "      <td>Skylit Midtown Castle</td>\n",
       "      <td>2845</td>\n",
       "      <td>Jennifer</td>\n",
       "      <td>Manhattan</td>\n",
       "      <td>Midtown</td>\n",
       "      <td>40.75356</td>\n",
       "      <td>-73.98559</td>\n",
       "      <td>Entire home/apt</td>\n",
       "      <td>150</td>\n",
       "      <td>30</td>\n",
       "      <td>48</td>\n",
       "      <td>11/4/2019</td>\n",
       "      <td>0.32</td>\n",
       "      <td>3</td>\n",
       "      <td>334</td>\n",
       "      <td>0</td>\n",
       "      <td>NaN</td>\n",
       "      <td>2019-11-04</td>\n",
       "    </tr>\n",
       "    <tr>\n",
       "      <th>1</th>\n",
       "      <td>5121.0</td>\n",
       "      <td>BlissArtsSpace!</td>\n",
       "      <td>7356</td>\n",
       "      <td>Garon</td>\n",
       "      <td>Brooklyn</td>\n",
       "      <td>Bedford-Stuyvesant</td>\n",
       "      <td>40.68535</td>\n",
       "      <td>-73.95512</td>\n",
       "      <td>Private room</td>\n",
       "      <td>60</td>\n",
       "      <td>30</td>\n",
       "      <td>50</td>\n",
       "      <td>12/2/2019</td>\n",
       "      <td>0.32</td>\n",
       "      <td>2</td>\n",
       "      <td>365</td>\n",
       "      <td>0</td>\n",
       "      <td>NaN</td>\n",
       "      <td>2019-12-02</td>\n",
       "    </tr>\n",
       "    <tr>\n",
       "      <th>2</th>\n",
       "      <td>5136.0</td>\n",
       "      <td>Spacious Brooklyn Duplex, Patio + Garden</td>\n",
       "      <td>7378</td>\n",
       "      <td>Rebecca</td>\n",
       "      <td>Brooklyn</td>\n",
       "      <td>Sunset Park</td>\n",
       "      <td>40.66265</td>\n",
       "      <td>-73.99454</td>\n",
       "      <td>Entire home/apt</td>\n",
       "      <td>275</td>\n",
       "      <td>5</td>\n",
       "      <td>2</td>\n",
       "      <td>8/8/2021</td>\n",
       "      <td>0.02</td>\n",
       "      <td>1</td>\n",
       "      <td>201</td>\n",
       "      <td>1</td>\n",
       "      <td>NaN</td>\n",
       "      <td>2021-08-08</td>\n",
       "    </tr>\n",
       "    <tr>\n",
       "      <th>3</th>\n",
       "      <td>5178.0</td>\n",
       "      <td>Large Furnished Room Near B'way</td>\n",
       "      <td>8967</td>\n",
       "      <td>Shunichi</td>\n",
       "      <td>Manhattan</td>\n",
       "      <td>Midtown</td>\n",
       "      <td>40.76457</td>\n",
       "      <td>-73.98317</td>\n",
       "      <td>Private room</td>\n",
       "      <td>68</td>\n",
       "      <td>2</td>\n",
       "      <td>520</td>\n",
       "      <td>2/18/2022</td>\n",
       "      <td>3.33</td>\n",
       "      <td>1</td>\n",
       "      <td>154</td>\n",
       "      <td>46</td>\n",
       "      <td>NaN</td>\n",
       "      <td>2022-02-18</td>\n",
       "    </tr>\n",
       "    <tr>\n",
       "      <th>4</th>\n",
       "      <td>5203.0</td>\n",
       "      <td>Cozy Clean Guest Room - Family Apt</td>\n",
       "      <td>7490</td>\n",
       "      <td>MaryEllen</td>\n",
       "      <td>Manhattan</td>\n",
       "      <td>Upper West Side</td>\n",
       "      <td>40.80380</td>\n",
       "      <td>-73.96751</td>\n",
       "      <td>Private room</td>\n",
       "      <td>75</td>\n",
       "      <td>2</td>\n",
       "      <td>118</td>\n",
       "      <td>7/21/2017</td>\n",
       "      <td>0.77</td>\n",
       "      <td>1</td>\n",
       "      <td>0</td>\n",
       "      <td>0</td>\n",
       "      <td>NaN</td>\n",
       "      <td>2017-07-21</td>\n",
       "    </tr>\n",
       "  </tbody>\n",
       "</table>\n",
       "</div>"
      ],
      "text/plain": [
       "       id                                      name  host_id  host_name  \\\n",
       "0  2595.0                     Skylit Midtown Castle     2845   Jennifer   \n",
       "1  5121.0                           BlissArtsSpace!     7356      Garon   \n",
       "2  5136.0  Spacious Brooklyn Duplex, Patio + Garden     7378    Rebecca   \n",
       "3  5178.0          Large Furnished Room Near B'way　     8967   Shunichi   \n",
       "4  5203.0        Cozy Clean Guest Room - Family Apt     7490  MaryEllen   \n",
       "\n",
       "  neighbourhood_group       neighbourhood  latitude  longitude  \\\n",
       "0           Manhattan             Midtown  40.75356  -73.98559   \n",
       "1            Brooklyn  Bedford-Stuyvesant  40.68535  -73.95512   \n",
       "2            Brooklyn         Sunset Park  40.66265  -73.99454   \n",
       "3           Manhattan             Midtown  40.76457  -73.98317   \n",
       "4           Manhattan     Upper West Side  40.80380  -73.96751   \n",
       "\n",
       "         room_type  price  minimum_nights  number_of_reviews last_review  \\\n",
       "0  Entire home/apt    150              30                 48   11/4/2019   \n",
       "1     Private room     60              30                 50   12/2/2019   \n",
       "2  Entire home/apt    275               5                  2    8/8/2021   \n",
       "3     Private room     68               2                520   2/18/2022   \n",
       "4     Private room     75               2                118   7/21/2017   \n",
       "\n",
       "   reviews_per_month  calculated_host_listings_count  availability_365  \\\n",
       "0               0.32                               3               334   \n",
       "1               0.32                               2               365   \n",
       "2               0.02                               1               201   \n",
       "3               3.33                               1               154   \n",
       "4               0.77                               1                 0   \n",
       "\n",
       "   number_of_reviews_ltm license latest_review  \n",
       "0                      0     NaN    2019-11-04  \n",
       "1                      0     NaN    2019-12-02  \n",
       "2                      1     NaN    2021-08-08  \n",
       "3                     46     NaN    2022-02-18  \n",
       "4                      0     NaN    2017-07-21  "
      ]
     },
     "execution_count": 7,
     "metadata": {},
     "output_type": "execute_result"
    }
   ],
   "source": [
    "df.head()"
   ]
  },
  {
   "cell_type": "code",
   "execution_count": 8,
   "id": "bdca41a8",
   "metadata": {},
   "outputs": [
    {
     "data": {
      "text/html": [
       "<div>\n",
       "<style scoped>\n",
       "    .dataframe tbody tr th:only-of-type {\n",
       "        vertical-align: middle;\n",
       "    }\n",
       "\n",
       "    .dataframe tbody tr th {\n",
       "        vertical-align: top;\n",
       "    }\n",
       "\n",
       "    .dataframe thead th {\n",
       "        text-align: right;\n",
       "    }\n",
       "</style>\n",
       "<table border=\"1\" class=\"dataframe\">\n",
       "  <thead>\n",
       "    <tr style=\"text-align: right;\">\n",
       "      <th></th>\n",
       "      <th>id</th>\n",
       "      <th>host_id</th>\n",
       "      <th>latitude</th>\n",
       "      <th>longitude</th>\n",
       "      <th>price</th>\n",
       "      <th>minimum_nights</th>\n",
       "      <th>number_of_reviews</th>\n",
       "      <th>reviews_per_month</th>\n",
       "      <th>calculated_host_listings_count</th>\n",
       "      <th>availability_365</th>\n",
       "      <th>number_of_reviews_ltm</th>\n",
       "    </tr>\n",
       "  </thead>\n",
       "  <tbody>\n",
       "    <tr>\n",
       "      <th>count</th>\n",
       "      <td>3.763100e+04</td>\n",
       "      <td>37631.0</td>\n",
       "      <td>37631.0</td>\n",
       "      <td>37631.0</td>\n",
       "      <td>37631.0</td>\n",
       "      <td>37631.0</td>\n",
       "      <td>37631.0</td>\n",
       "      <td>28657.0</td>\n",
       "      <td>37631.0</td>\n",
       "      <td>37631.0</td>\n",
       "      <td>37631.0</td>\n",
       "    </tr>\n",
       "    <tr>\n",
       "      <th>mean</th>\n",
       "      <td>2.082629e+16</td>\n",
       "      <td>122323486.0</td>\n",
       "      <td>41.0</td>\n",
       "      <td>-74.0</td>\n",
       "      <td>166.0</td>\n",
       "      <td>20.0</td>\n",
       "      <td>25.0</td>\n",
       "      <td>1.0</td>\n",
       "      <td>15.0</td>\n",
       "      <td>129.0</td>\n",
       "      <td>6.0</td>\n",
       "    </tr>\n",
       "    <tr>\n",
       "      <th>std</th>\n",
       "      <td>1.056340e+17</td>\n",
       "      <td>136646068.0</td>\n",
       "      <td>0.0</td>\n",
       "      <td>0.0</td>\n",
       "      <td>307.0</td>\n",
       "      <td>29.0</td>\n",
       "      <td>53.0</td>\n",
       "      <td>2.0</td>\n",
       "      <td>46.0</td>\n",
       "      <td>141.0</td>\n",
       "      <td>17.0</td>\n",
       "    </tr>\n",
       "    <tr>\n",
       "      <th>min</th>\n",
       "      <td>2.595000e+03</td>\n",
       "      <td>2438.0</td>\n",
       "      <td>41.0</td>\n",
       "      <td>-74.0</td>\n",
       "      <td>0.0</td>\n",
       "      <td>1.0</td>\n",
       "      <td>0.0</td>\n",
       "      <td>0.0</td>\n",
       "      <td>1.0</td>\n",
       "      <td>0.0</td>\n",
       "      <td>0.0</td>\n",
       "    </tr>\n",
       "    <tr>\n",
       "      <th>25%</th>\n",
       "      <td>1.415543e+07</td>\n",
       "      <td>12048474.0</td>\n",
       "      <td>41.0</td>\n",
       "      <td>-74.0</td>\n",
       "      <td>68.0</td>\n",
       "      <td>2.0</td>\n",
       "      <td>1.0</td>\n",
       "      <td>0.0</td>\n",
       "      <td>1.0</td>\n",
       "      <td>0.0</td>\n",
       "      <td>0.0</td>\n",
       "    </tr>\n",
       "    <tr>\n",
       "      <th>50%</th>\n",
       "      <td>3.366773e+07</td>\n",
       "      <td>51772392.0</td>\n",
       "      <td>41.0</td>\n",
       "      <td>-74.0</td>\n",
       "      <td>112.0</td>\n",
       "      <td>30.0</td>\n",
       "      <td>4.0</td>\n",
       "      <td>0.0</td>\n",
       "      <td>1.0</td>\n",
       "      <td>66.0</td>\n",
       "      <td>0.0</td>\n",
       "    </tr>\n",
       "    <tr>\n",
       "      <th>75%</th>\n",
       "      <td>4.893624e+07</td>\n",
       "      <td>209921907.0</td>\n",
       "      <td>41.0</td>\n",
       "      <td>-74.0</td>\n",
       "      <td>180.0</td>\n",
       "      <td>30.0</td>\n",
       "      <td>22.0</td>\n",
       "      <td>1.0</td>\n",
       "      <td>4.0</td>\n",
       "      <td>275.0</td>\n",
       "      <td>4.0</td>\n",
       "    </tr>\n",
       "    <tr>\n",
       "      <th>max</th>\n",
       "      <td>5.750000e+17</td>\n",
       "      <td>447788073.0</td>\n",
       "      <td>41.0</td>\n",
       "      <td>-74.0</td>\n",
       "      <td>10000.0</td>\n",
       "      <td>1250.0</td>\n",
       "      <td>1024.0</td>\n",
       "      <td>90.0</td>\n",
       "      <td>332.0</td>\n",
       "      <td>365.0</td>\n",
       "      <td>849.0</td>\n",
       "    </tr>\n",
       "  </tbody>\n",
       "</table>\n",
       "</div>"
      ],
      "text/plain": [
       "                 id      host_id  latitude  longitude    price  \\\n",
       "count  3.763100e+04      37631.0   37631.0    37631.0  37631.0   \n",
       "mean   2.082629e+16  122323486.0      41.0      -74.0    166.0   \n",
       "std    1.056340e+17  136646068.0       0.0        0.0    307.0   \n",
       "min    2.595000e+03       2438.0      41.0      -74.0      0.0   \n",
       "25%    1.415543e+07   12048474.0      41.0      -74.0     68.0   \n",
       "50%    3.366773e+07   51772392.0      41.0      -74.0    112.0   \n",
       "75%    4.893624e+07  209921907.0      41.0      -74.0    180.0   \n",
       "max    5.750000e+17  447788073.0      41.0      -74.0  10000.0   \n",
       "\n",
       "       minimum_nights  number_of_reviews  reviews_per_month  \\\n",
       "count         37631.0            37631.0            28657.0   \n",
       "mean             20.0               25.0                1.0   \n",
       "std              29.0               53.0                2.0   \n",
       "min               1.0                0.0                0.0   \n",
       "25%               2.0                1.0                0.0   \n",
       "50%              30.0                4.0                0.0   \n",
       "75%              30.0               22.0                1.0   \n",
       "max            1250.0             1024.0               90.0   \n",
       "\n",
       "       calculated_host_listings_count  availability_365  number_of_reviews_ltm  \n",
       "count                         37631.0           37631.0                37631.0  \n",
       "mean                             15.0             129.0                    6.0  \n",
       "std                              46.0             141.0                   17.0  \n",
       "min                               1.0               0.0                    0.0  \n",
       "25%                               1.0               0.0                    0.0  \n",
       "50%                               1.0              66.0                    0.0  \n",
       "75%                               4.0             275.0                    4.0  \n",
       "max                             332.0             365.0                  849.0  "
      ]
     },
     "execution_count": 8,
     "metadata": {},
     "output_type": "execute_result"
    }
   ],
   "source": [
    "df.describe().round(0)"
   ]
  },
  {
   "cell_type": "code",
   "execution_count": 9,
   "id": "e24e32f7",
   "metadata": {},
   "outputs": [
    {
     "name": "stdout",
     "output_type": "stream",
     "text": [
      "<class 'pandas.core.frame.DataFrame'>\n",
      "RangeIndex: 37631 entries, 0 to 37630\n",
      "Data columns (total 19 columns):\n",
      " #   Column                          Non-Null Count  Dtype         \n",
      "---  ------                          --------------  -----         \n",
      " 0   id                              37631 non-null  float64       \n",
      " 1   name                            37617 non-null  object        \n",
      " 2   host_id                         37631 non-null  int64         \n",
      " 3   host_name                       37544 non-null  object        \n",
      " 4   neighbourhood_group             37631 non-null  object        \n",
      " 5   neighbourhood                   37631 non-null  object        \n",
      " 6   latitude                        37631 non-null  float64       \n",
      " 7   longitude                       37631 non-null  float64       \n",
      " 8   room_type                       37631 non-null  object        \n",
      " 9   price                           37631 non-null  int64         \n",
      " 10  minimum_nights                  37631 non-null  int64         \n",
      " 11  number_of_reviews               37631 non-null  int64         \n",
      " 12  last_review                     28657 non-null  object        \n",
      " 13  reviews_per_month               28657 non-null  float64       \n",
      " 14  calculated_host_listings_count  37631 non-null  int64         \n",
      " 15  availability_365                37631 non-null  int64         \n",
      " 16  number_of_reviews_ltm           37631 non-null  int64         \n",
      " 17  license                         1 non-null      object        \n",
      " 18  latest_review                   28657 non-null  datetime64[ns]\n",
      "dtypes: datetime64[ns](1), float64(4), int64(7), object(7)\n",
      "memory usage: 5.5+ MB\n"
     ]
    }
   ],
   "source": [
    "df.info()"
   ]
  },
  {
   "cell_type": "code",
   "execution_count": 10,
   "id": "6bc78fa0",
   "metadata": {
    "scrolled": false
   },
   "outputs": [
    {
     "name": "stdout",
     "output_type": "stream",
     "text": [
      "id                                    0\n",
      "name                                 14\n",
      "host_id                               0\n",
      "host_name                            87\n",
      "neighbourhood_group                   0\n",
      "neighbourhood                         0\n",
      "latitude                              0\n",
      "longitude                             0\n",
      "room_type                             0\n",
      "price                                 0\n",
      "minimum_nights                        0\n",
      "number_of_reviews                     0\n",
      "last_review                        8974\n",
      "reviews_per_month                  8974\n",
      "calculated_host_listings_count        0\n",
      "availability_365                      0\n",
      "number_of_reviews_ltm                 0\n",
      "license                           37630\n",
      "latest_review                      8974\n",
      "dtype: int64\n"
     ]
    }
   ],
   "source": [
    "print(df.isnull().sum())"
   ]
  },
  {
   "cell_type": "code",
   "execution_count": 11,
   "id": "8c6c6e4d",
   "metadata": {},
   "outputs": [],
   "source": [
    "df['reviews_per_month'].fillna(df['reviews_per_month'].mean(), inplace=True)"
   ]
  },
  {
   "cell_type": "code",
   "execution_count": 12,
   "id": "e9321a85",
   "metadata": {},
   "outputs": [],
   "source": [
    "df = df.drop('last_review',axis=1)"
   ]
  },
  {
   "cell_type": "code",
   "execution_count": 13,
   "id": "d5e45c6b",
   "metadata": {},
   "outputs": [
    {
     "data": {
      "text/html": [
       "<div>\n",
       "<style scoped>\n",
       "    .dataframe tbody tr th:only-of-type {\n",
       "        vertical-align: middle;\n",
       "    }\n",
       "\n",
       "    .dataframe tbody tr th {\n",
       "        vertical-align: top;\n",
       "    }\n",
       "\n",
       "    .dataframe thead th {\n",
       "        text-align: right;\n",
       "    }\n",
       "</style>\n",
       "<table border=\"1\" class=\"dataframe\">\n",
       "  <thead>\n",
       "    <tr style=\"text-align: right;\">\n",
       "      <th></th>\n",
       "      <th>id</th>\n",
       "      <th>name</th>\n",
       "      <th>host_id</th>\n",
       "      <th>host_name</th>\n",
       "      <th>neighbourhood_group</th>\n",
       "      <th>neighbourhood</th>\n",
       "      <th>latitude</th>\n",
       "      <th>longitude</th>\n",
       "      <th>room_type</th>\n",
       "      <th>price</th>\n",
       "      <th>minimum_nights</th>\n",
       "      <th>number_of_reviews</th>\n",
       "      <th>reviews_per_month</th>\n",
       "      <th>calculated_host_listings_count</th>\n",
       "      <th>availability_365</th>\n",
       "      <th>number_of_reviews_ltm</th>\n",
       "      <th>license</th>\n",
       "      <th>latest_review</th>\n",
       "    </tr>\n",
       "  </thead>\n",
       "  <tbody>\n",
       "    <tr>\n",
       "      <th>0</th>\n",
       "      <td>2.595000e+03</td>\n",
       "      <td>Skylit Midtown Castle</td>\n",
       "      <td>2845</td>\n",
       "      <td>Jennifer</td>\n",
       "      <td>Manhattan</td>\n",
       "      <td>Midtown</td>\n",
       "      <td>40.753560</td>\n",
       "      <td>-73.985590</td>\n",
       "      <td>Entire home/apt</td>\n",
       "      <td>150</td>\n",
       "      <td>30</td>\n",
       "      <td>48</td>\n",
       "      <td>0.320000</td>\n",
       "      <td>3</td>\n",
       "      <td>334</td>\n",
       "      <td>0</td>\n",
       "      <td>NaN</td>\n",
       "      <td>2019-11-04</td>\n",
       "    </tr>\n",
       "    <tr>\n",
       "      <th>1</th>\n",
       "      <td>5.121000e+03</td>\n",
       "      <td>BlissArtsSpace!</td>\n",
       "      <td>7356</td>\n",
       "      <td>Garon</td>\n",
       "      <td>Brooklyn</td>\n",
       "      <td>Bedford-Stuyvesant</td>\n",
       "      <td>40.685350</td>\n",
       "      <td>-73.955120</td>\n",
       "      <td>Private room</td>\n",
       "      <td>60</td>\n",
       "      <td>30</td>\n",
       "      <td>50</td>\n",
       "      <td>0.320000</td>\n",
       "      <td>2</td>\n",
       "      <td>365</td>\n",
       "      <td>0</td>\n",
       "      <td>NaN</td>\n",
       "      <td>2019-12-02</td>\n",
       "    </tr>\n",
       "    <tr>\n",
       "      <th>2</th>\n",
       "      <td>5.136000e+03</td>\n",
       "      <td>Spacious Brooklyn Duplex, Patio + Garden</td>\n",
       "      <td>7378</td>\n",
       "      <td>Rebecca</td>\n",
       "      <td>Brooklyn</td>\n",
       "      <td>Sunset Park</td>\n",
       "      <td>40.662650</td>\n",
       "      <td>-73.994540</td>\n",
       "      <td>Entire home/apt</td>\n",
       "      <td>275</td>\n",
       "      <td>5</td>\n",
       "      <td>2</td>\n",
       "      <td>0.020000</td>\n",
       "      <td>1</td>\n",
       "      <td>201</td>\n",
       "      <td>1</td>\n",
       "      <td>NaN</td>\n",
       "      <td>2021-08-08</td>\n",
       "    </tr>\n",
       "    <tr>\n",
       "      <th>3</th>\n",
       "      <td>5.178000e+03</td>\n",
       "      <td>Large Furnished Room Near B'way</td>\n",
       "      <td>8967</td>\n",
       "      <td>Shunichi</td>\n",
       "      <td>Manhattan</td>\n",
       "      <td>Midtown</td>\n",
       "      <td>40.764570</td>\n",
       "      <td>-73.983170</td>\n",
       "      <td>Private room</td>\n",
       "      <td>68</td>\n",
       "      <td>2</td>\n",
       "      <td>520</td>\n",
       "      <td>3.330000</td>\n",
       "      <td>1</td>\n",
       "      <td>154</td>\n",
       "      <td>46</td>\n",
       "      <td>NaN</td>\n",
       "      <td>2022-02-18</td>\n",
       "    </tr>\n",
       "    <tr>\n",
       "      <th>4</th>\n",
       "      <td>5.203000e+03</td>\n",
       "      <td>Cozy Clean Guest Room - Family Apt</td>\n",
       "      <td>7490</td>\n",
       "      <td>MaryEllen</td>\n",
       "      <td>Manhattan</td>\n",
       "      <td>Upper West Side</td>\n",
       "      <td>40.803800</td>\n",
       "      <td>-73.967510</td>\n",
       "      <td>Private room</td>\n",
       "      <td>75</td>\n",
       "      <td>2</td>\n",
       "      <td>118</td>\n",
       "      <td>0.770000</td>\n",
       "      <td>1</td>\n",
       "      <td>0</td>\n",
       "      <td>0</td>\n",
       "      <td>NaN</td>\n",
       "      <td>2017-07-21</td>\n",
       "    </tr>\n",
       "    <tr>\n",
       "      <th>...</th>\n",
       "      <td>...</td>\n",
       "      <td>...</td>\n",
       "      <td>...</td>\n",
       "      <td>...</td>\n",
       "      <td>...</td>\n",
       "      <td>...</td>\n",
       "      <td>...</td>\n",
       "      <td>...</td>\n",
       "      <td>...</td>\n",
       "      <td>...</td>\n",
       "      <td>...</td>\n",
       "      <td>...</td>\n",
       "      <td>...</td>\n",
       "      <td>...</td>\n",
       "      <td>...</td>\n",
       "      <td>...</td>\n",
       "      <td>...</td>\n",
       "      <td>...</td>\n",
       "    </tr>\n",
       "    <tr>\n",
       "      <th>37626</th>\n",
       "      <td>5.750000e+17</td>\n",
       "      <td>Queens flushing.  Very convenient area.</td>\n",
       "      <td>204704622</td>\n",
       "      <td>Momoyo</td>\n",
       "      <td>Queens</td>\n",
       "      <td>Flushing</td>\n",
       "      <td>40.765396</td>\n",
       "      <td>-73.820677</td>\n",
       "      <td>Private room</td>\n",
       "      <td>27</td>\n",
       "      <td>30</td>\n",
       "      <td>0</td>\n",
       "      <td>1.049115</td>\n",
       "      <td>126</td>\n",
       "      <td>57</td>\n",
       "      <td>0</td>\n",
       "      <td>NaN</td>\n",
       "      <td>NaT</td>\n",
       "    </tr>\n",
       "    <tr>\n",
       "      <th>37627</th>\n",
       "      <td>5.750000e+17</td>\n",
       "      <td>CONTACT BEFORE YOU BOOK R2</td>\n",
       "      <td>192407842</td>\n",
       "      <td>Aron</td>\n",
       "      <td>Manhattan</td>\n",
       "      <td>Harlem</td>\n",
       "      <td>40.826026</td>\n",
       "      <td>-73.950669</td>\n",
       "      <td>Private room</td>\n",
       "      <td>35</td>\n",
       "      <td>60</td>\n",
       "      <td>0</td>\n",
       "      <td>1.049115</td>\n",
       "      <td>7</td>\n",
       "      <td>365</td>\n",
       "      <td>0</td>\n",
       "      <td>NaN</td>\n",
       "      <td>NaT</td>\n",
       "    </tr>\n",
       "    <tr>\n",
       "      <th>37628</th>\n",
       "      <td>5.750000e+17</td>\n",
       "      <td>CONTACT BEFORE YOU BOOK R1</td>\n",
       "      <td>192407842</td>\n",
       "      <td>Aron</td>\n",
       "      <td>Manhattan</td>\n",
       "      <td>Harlem</td>\n",
       "      <td>40.826355</td>\n",
       "      <td>-73.951875</td>\n",
       "      <td>Private room</td>\n",
       "      <td>28</td>\n",
       "      <td>30</td>\n",
       "      <td>0</td>\n",
       "      <td>1.049115</td>\n",
       "      <td>7</td>\n",
       "      <td>334</td>\n",
       "      <td>0</td>\n",
       "      <td>NaN</td>\n",
       "      <td>NaT</td>\n",
       "    </tr>\n",
       "    <tr>\n",
       "      <th>37629</th>\n",
       "      <td>5.750000e+17</td>\n",
       "      <td>Super cosy and charming apartment</td>\n",
       "      <td>319140756</td>\n",
       "      <td>Andrea</td>\n",
       "      <td>Manhattan</td>\n",
       "      <td>Lower East Side</td>\n",
       "      <td>40.720062</td>\n",
       "      <td>-73.984825</td>\n",
       "      <td>Private room</td>\n",
       "      <td>84</td>\n",
       "      <td>1</td>\n",
       "      <td>0</td>\n",
       "      <td>1.049115</td>\n",
       "      <td>1</td>\n",
       "      <td>357</td>\n",
       "      <td>0</td>\n",
       "      <td>NaN</td>\n",
       "      <td>NaT</td>\n",
       "    </tr>\n",
       "    <tr>\n",
       "      <th>37630</th>\n",
       "      <td>5.750000e+17</td>\n",
       "      <td>Well-kept apartment home | 2BR in New York</td>\n",
       "      <td>368944610</td>\n",
       "      <td>Casey</td>\n",
       "      <td>Manhattan</td>\n",
       "      <td>Murray Hill</td>\n",
       "      <td>40.743930</td>\n",
       "      <td>-73.973500</td>\n",
       "      <td>Entire home/apt</td>\n",
       "      <td>412</td>\n",
       "      <td>31</td>\n",
       "      <td>0</td>\n",
       "      <td>1.049115</td>\n",
       "      <td>84</td>\n",
       "      <td>358</td>\n",
       "      <td>0</td>\n",
       "      <td>NaN</td>\n",
       "      <td>NaT</td>\n",
       "    </tr>\n",
       "  </tbody>\n",
       "</table>\n",
       "<p>37631 rows × 18 columns</p>\n",
       "</div>"
      ],
      "text/plain": [
       "                 id                                        name    host_id  \\\n",
       "0      2.595000e+03                       Skylit Midtown Castle       2845   \n",
       "1      5.121000e+03                             BlissArtsSpace!       7356   \n",
       "2      5.136000e+03    Spacious Brooklyn Duplex, Patio + Garden       7378   \n",
       "3      5.178000e+03            Large Furnished Room Near B'way　       8967   \n",
       "4      5.203000e+03          Cozy Clean Guest Room - Family Apt       7490   \n",
       "...             ...                                         ...        ...   \n",
       "37626  5.750000e+17     Queens flushing.  Very convenient area.  204704622   \n",
       "37627  5.750000e+17                  CONTACT BEFORE YOU BOOK R2  192407842   \n",
       "37628  5.750000e+17                  CONTACT BEFORE YOU BOOK R1  192407842   \n",
       "37629  5.750000e+17           Super cosy and charming apartment  319140756   \n",
       "37630  5.750000e+17  Well-kept apartment home | 2BR in New York  368944610   \n",
       "\n",
       "       host_name neighbourhood_group       neighbourhood   latitude  \\\n",
       "0       Jennifer           Manhattan             Midtown  40.753560   \n",
       "1          Garon            Brooklyn  Bedford-Stuyvesant  40.685350   \n",
       "2        Rebecca            Brooklyn         Sunset Park  40.662650   \n",
       "3       Shunichi           Manhattan             Midtown  40.764570   \n",
       "4      MaryEllen           Manhattan     Upper West Side  40.803800   \n",
       "...          ...                 ...                 ...        ...   \n",
       "37626     Momoyo              Queens            Flushing  40.765396   \n",
       "37627       Aron           Manhattan              Harlem  40.826026   \n",
       "37628       Aron           Manhattan              Harlem  40.826355   \n",
       "37629     Andrea           Manhattan     Lower East Side  40.720062   \n",
       "37630      Casey           Manhattan         Murray Hill  40.743930   \n",
       "\n",
       "       longitude        room_type  price  minimum_nights  number_of_reviews  \\\n",
       "0     -73.985590  Entire home/apt    150              30                 48   \n",
       "1     -73.955120     Private room     60              30                 50   \n",
       "2     -73.994540  Entire home/apt    275               5                  2   \n",
       "3     -73.983170     Private room     68               2                520   \n",
       "4     -73.967510     Private room     75               2                118   \n",
       "...          ...              ...    ...             ...                ...   \n",
       "37626 -73.820677     Private room     27              30                  0   \n",
       "37627 -73.950669     Private room     35              60                  0   \n",
       "37628 -73.951875     Private room     28              30                  0   \n",
       "37629 -73.984825     Private room     84               1                  0   \n",
       "37630 -73.973500  Entire home/apt    412              31                  0   \n",
       "\n",
       "       reviews_per_month  calculated_host_listings_count  availability_365  \\\n",
       "0               0.320000                               3               334   \n",
       "1               0.320000                               2               365   \n",
       "2               0.020000                               1               201   \n",
       "3               3.330000                               1               154   \n",
       "4               0.770000                               1                 0   \n",
       "...                  ...                             ...               ...   \n",
       "37626           1.049115                             126                57   \n",
       "37627           1.049115                               7               365   \n",
       "37628           1.049115                               7               334   \n",
       "37629           1.049115                               1               357   \n",
       "37630           1.049115                              84               358   \n",
       "\n",
       "       number_of_reviews_ltm license latest_review  \n",
       "0                          0     NaN    2019-11-04  \n",
       "1                          0     NaN    2019-12-02  \n",
       "2                          1     NaN    2021-08-08  \n",
       "3                         46     NaN    2022-02-18  \n",
       "4                          0     NaN    2017-07-21  \n",
       "...                      ...     ...           ...  \n",
       "37626                      0     NaN           NaT  \n",
       "37627                      0     NaN           NaT  \n",
       "37628                      0     NaN           NaT  \n",
       "37629                      0     NaN           NaT  \n",
       "37630                      0     NaN           NaT  \n",
       "\n",
       "[37631 rows x 18 columns]"
      ]
     },
     "execution_count": 13,
     "metadata": {},
     "output_type": "execute_result"
    }
   ],
   "source": [
    "df"
   ]
  },
  {
   "cell_type": "code",
   "execution_count": 14,
   "id": "3ba449c3",
   "metadata": {},
   "outputs": [
    {
     "name": "stdout",
     "output_type": "stream",
     "text": [
      "id                                    0\n",
      "name                                 14\n",
      "host_id                               0\n",
      "host_name                            87\n",
      "neighbourhood_group                   0\n",
      "neighbourhood                         0\n",
      "latitude                              0\n",
      "longitude                             0\n",
      "room_type                             0\n",
      "price                                 0\n",
      "minimum_nights                        0\n",
      "number_of_reviews                     0\n",
      "reviews_per_month                     0\n",
      "calculated_host_listings_count        0\n",
      "availability_365                      0\n",
      "number_of_reviews_ltm                 0\n",
      "license                           37630\n",
      "latest_review                      8974\n",
      "dtype: int64\n"
     ]
    }
   ],
   "source": [
    "print(df.isnull().sum())"
   ]
  },
  {
   "cell_type": "code",
   "execution_count": 15,
   "id": "123184dc",
   "metadata": {},
   "outputs": [],
   "source": [
    "df[\"id\"] = df[\"id\"].astype(\"int\")"
   ]
  },
  {
   "cell_type": "code",
   "execution_count": 16,
   "id": "8675e17f",
   "metadata": {},
   "outputs": [],
   "source": [
    "df[\"latitude\"] = df[\"latitude\"].astype(\"int\")"
   ]
  },
  {
   "cell_type": "code",
   "execution_count": 17,
   "id": "80bdbc98",
   "metadata": {},
   "outputs": [],
   "source": [
    "df[\"longitude\"] = df[\"longitude\"].astype(\"int\")"
   ]
  },
  {
   "cell_type": "code",
   "execution_count": 18,
   "id": "8f9da35b",
   "metadata": {},
   "outputs": [],
   "source": [
    "df[\"reviews_per_month\"] = df[\"reviews_per_month\"].astype(\"int\")"
   ]
  },
  {
   "cell_type": "code",
   "execution_count": 19,
   "id": "e110a3e0",
   "metadata": {},
   "outputs": [],
   "source": [
    "df = df.drop(\"host_name\",axis=1)"
   ]
  },
  {
   "cell_type": "code",
   "execution_count": 20,
   "id": "b1ea9533",
   "metadata": {},
   "outputs": [
    {
     "data": {
      "text/plain": [
       "id                                         int32\n",
       "name                                      object\n",
       "host_id                                    int64\n",
       "neighbourhood_group                       object\n",
       "neighbourhood                             object\n",
       "latitude                                   int32\n",
       "longitude                                  int32\n",
       "room_type                                 object\n",
       "price                                      int64\n",
       "minimum_nights                             int64\n",
       "number_of_reviews                          int64\n",
       "reviews_per_month                          int32\n",
       "calculated_host_listings_count             int64\n",
       "availability_365                           int64\n",
       "number_of_reviews_ltm                      int64\n",
       "license                                   object\n",
       "latest_review                     datetime64[ns]\n",
       "dtype: object"
      ]
     },
     "execution_count": 20,
     "metadata": {},
     "output_type": "execute_result"
    }
   ],
   "source": [
    "df.dtypes"
   ]
  },
  {
   "cell_type": "code",
   "execution_count": 21,
   "id": "6c0a33c3",
   "metadata": {
    "scrolled": false
   },
   "outputs": [
    {
     "data": {
      "text/html": [
       "<div>\n",
       "<style scoped>\n",
       "    .dataframe tbody tr th:only-of-type {\n",
       "        vertical-align: middle;\n",
       "    }\n",
       "\n",
       "    .dataframe tbody tr th {\n",
       "        vertical-align: top;\n",
       "    }\n",
       "\n",
       "    .dataframe thead th {\n",
       "        text-align: right;\n",
       "    }\n",
       "</style>\n",
       "<table border=\"1\" class=\"dataframe\">\n",
       "  <thead>\n",
       "    <tr style=\"text-align: right;\">\n",
       "      <th></th>\n",
       "      <th>id</th>\n",
       "      <th>host_id</th>\n",
       "      <th>latitude</th>\n",
       "      <th>longitude</th>\n",
       "      <th>price</th>\n",
       "      <th>minimum_nights</th>\n",
       "      <th>number_of_reviews</th>\n",
       "      <th>reviews_per_month</th>\n",
       "      <th>calculated_host_listings_count</th>\n",
       "      <th>availability_365</th>\n",
       "      <th>number_of_reviews_ltm</th>\n",
       "    </tr>\n",
       "  </thead>\n",
       "  <tbody>\n",
       "    <tr>\n",
       "      <th>id</th>\n",
       "      <td>1.000000</td>\n",
       "      <td>-0.153019</td>\n",
       "      <td>NaN</td>\n",
       "      <td>-0.010181</td>\n",
       "      <td>0.004488</td>\n",
       "      <td>0.050961</td>\n",
       "      <td>0.077976</td>\n",
       "      <td>-0.047634</td>\n",
       "      <td>-0.011460</td>\n",
       "      <td>-0.149791</td>\n",
       "      <td>0.067812</td>\n",
       "    </tr>\n",
       "    <tr>\n",
       "      <th>host_id</th>\n",
       "      <td>-0.153019</td>\n",
       "      <td>1.000000</td>\n",
       "      <td>NaN</td>\n",
       "      <td>-0.005992</td>\n",
       "      <td>0.007968</td>\n",
       "      <td>-0.121395</td>\n",
       "      <td>-0.120478</td>\n",
       "      <td>0.202307</td>\n",
       "      <td>0.052664</td>\n",
       "      <td>0.249349</td>\n",
       "      <td>0.106601</td>\n",
       "    </tr>\n",
       "    <tr>\n",
       "      <th>latitude</th>\n",
       "      <td>NaN</td>\n",
       "      <td>NaN</td>\n",
       "      <td>NaN</td>\n",
       "      <td>NaN</td>\n",
       "      <td>NaN</td>\n",
       "      <td>NaN</td>\n",
       "      <td>NaN</td>\n",
       "      <td>NaN</td>\n",
       "      <td>NaN</td>\n",
       "      <td>NaN</td>\n",
       "      <td>NaN</td>\n",
       "    </tr>\n",
       "    <tr>\n",
       "      <th>longitude</th>\n",
       "      <td>-0.010181</td>\n",
       "      <td>-0.005992</td>\n",
       "      <td>NaN</td>\n",
       "      <td>1.000000</td>\n",
       "      <td>-0.056182</td>\n",
       "      <td>-0.003872</td>\n",
       "      <td>0.001036</td>\n",
       "      <td>-0.008235</td>\n",
       "      <td>-0.018055</td>\n",
       "      <td>0.015947</td>\n",
       "      <td>-0.019009</td>\n",
       "    </tr>\n",
       "    <tr>\n",
       "      <th>price</th>\n",
       "      <td>0.004488</td>\n",
       "      <td>0.007968</td>\n",
       "      <td>NaN</td>\n",
       "      <td>-0.056182</td>\n",
       "      <td>1.000000</td>\n",
       "      <td>-0.016492</td>\n",
       "      <td>-0.036127</td>\n",
       "      <td>-0.010346</td>\n",
       "      <td>0.016382</td>\n",
       "      <td>0.047575</td>\n",
       "      <td>-0.015564</td>\n",
       "    </tr>\n",
       "    <tr>\n",
       "      <th>minimum_nights</th>\n",
       "      <td>0.050961</td>\n",
       "      <td>-0.121395</td>\n",
       "      <td>NaN</td>\n",
       "      <td>-0.003872</td>\n",
       "      <td>-0.016492</td>\n",
       "      <td>1.000000</td>\n",
       "      <td>-0.146114</td>\n",
       "      <td>-0.148686</td>\n",
       "      <td>0.113736</td>\n",
       "      <td>-0.059152</td>\n",
       "      <td>-0.205508</td>\n",
       "    </tr>\n",
       "    <tr>\n",
       "      <th>number_of_reviews</th>\n",
       "      <td>0.077976</td>\n",
       "      <td>-0.120478</td>\n",
       "      <td>NaN</td>\n",
       "      <td>0.001036</td>\n",
       "      <td>-0.036127</td>\n",
       "      <td>-0.146114</td>\n",
       "      <td>1.000000</td>\n",
       "      <td>0.490854</td>\n",
       "      <td>-0.109657</td>\n",
       "      <td>0.090055</td>\n",
       "      <td>0.601824</td>\n",
       "    </tr>\n",
       "    <tr>\n",
       "      <th>reviews_per_month</th>\n",
       "      <td>-0.047634</td>\n",
       "      <td>0.202307</td>\n",
       "      <td>NaN</td>\n",
       "      <td>-0.008235</td>\n",
       "      <td>-0.010346</td>\n",
       "      <td>-0.148686</td>\n",
       "      <td>0.490854</td>\n",
       "      <td>1.000000</td>\n",
       "      <td>0.010422</td>\n",
       "      <td>0.144498</td>\n",
       "      <td>0.788560</td>\n",
       "    </tr>\n",
       "    <tr>\n",
       "      <th>calculated_host_listings_count</th>\n",
       "      <td>-0.011460</td>\n",
       "      <td>0.052664</td>\n",
       "      <td>NaN</td>\n",
       "      <td>-0.018055</td>\n",
       "      <td>0.016382</td>\n",
       "      <td>0.113736</td>\n",
       "      <td>-0.109657</td>\n",
       "      <td>0.010422</td>\n",
       "      <td>1.000000</td>\n",
       "      <td>0.178260</td>\n",
       "      <td>-0.047302</td>\n",
       "    </tr>\n",
       "    <tr>\n",
       "      <th>availability_365</th>\n",
       "      <td>-0.149791</td>\n",
       "      <td>0.249349</td>\n",
       "      <td>NaN</td>\n",
       "      <td>0.015947</td>\n",
       "      <td>0.047575</td>\n",
       "      <td>-0.059152</td>\n",
       "      <td>0.090055</td>\n",
       "      <td>0.144498</td>\n",
       "      <td>0.178260</td>\n",
       "      <td>1.000000</td>\n",
       "      <td>0.136386</td>\n",
       "    </tr>\n",
       "    <tr>\n",
       "      <th>number_of_reviews_ltm</th>\n",
       "      <td>0.067812</td>\n",
       "      <td>0.106601</td>\n",
       "      <td>NaN</td>\n",
       "      <td>-0.019009</td>\n",
       "      <td>-0.015564</td>\n",
       "      <td>-0.205508</td>\n",
       "      <td>0.601824</td>\n",
       "      <td>0.788560</td>\n",
       "      <td>-0.047302</td>\n",
       "      <td>0.136386</td>\n",
       "      <td>1.000000</td>\n",
       "    </tr>\n",
       "  </tbody>\n",
       "</table>\n",
       "</div>"
      ],
      "text/plain": [
       "                                      id   host_id  latitude  longitude  \\\n",
       "id                              1.000000 -0.153019       NaN  -0.010181   \n",
       "host_id                        -0.153019  1.000000       NaN  -0.005992   \n",
       "latitude                             NaN       NaN       NaN        NaN   \n",
       "longitude                      -0.010181 -0.005992       NaN   1.000000   \n",
       "price                           0.004488  0.007968       NaN  -0.056182   \n",
       "minimum_nights                  0.050961 -0.121395       NaN  -0.003872   \n",
       "number_of_reviews               0.077976 -0.120478       NaN   0.001036   \n",
       "reviews_per_month              -0.047634  0.202307       NaN  -0.008235   \n",
       "calculated_host_listings_count -0.011460  0.052664       NaN  -0.018055   \n",
       "availability_365               -0.149791  0.249349       NaN   0.015947   \n",
       "number_of_reviews_ltm           0.067812  0.106601       NaN  -0.019009   \n",
       "\n",
       "                                   price  minimum_nights  number_of_reviews  \\\n",
       "id                              0.004488        0.050961           0.077976   \n",
       "host_id                         0.007968       -0.121395          -0.120478   \n",
       "latitude                             NaN             NaN                NaN   \n",
       "longitude                      -0.056182       -0.003872           0.001036   \n",
       "price                           1.000000       -0.016492          -0.036127   \n",
       "minimum_nights                 -0.016492        1.000000          -0.146114   \n",
       "number_of_reviews              -0.036127       -0.146114           1.000000   \n",
       "reviews_per_month              -0.010346       -0.148686           0.490854   \n",
       "calculated_host_listings_count  0.016382        0.113736          -0.109657   \n",
       "availability_365                0.047575       -0.059152           0.090055   \n",
       "number_of_reviews_ltm          -0.015564       -0.205508           0.601824   \n",
       "\n",
       "                                reviews_per_month  \\\n",
       "id                                      -0.047634   \n",
       "host_id                                  0.202307   \n",
       "latitude                                      NaN   \n",
       "longitude                               -0.008235   \n",
       "price                                   -0.010346   \n",
       "minimum_nights                          -0.148686   \n",
       "number_of_reviews                        0.490854   \n",
       "reviews_per_month                        1.000000   \n",
       "calculated_host_listings_count           0.010422   \n",
       "availability_365                         0.144498   \n",
       "number_of_reviews_ltm                    0.788560   \n",
       "\n",
       "                                calculated_host_listings_count  \\\n",
       "id                                                   -0.011460   \n",
       "host_id                                               0.052664   \n",
       "latitude                                                   NaN   \n",
       "longitude                                            -0.018055   \n",
       "price                                                 0.016382   \n",
       "minimum_nights                                        0.113736   \n",
       "number_of_reviews                                    -0.109657   \n",
       "reviews_per_month                                     0.010422   \n",
       "calculated_host_listings_count                        1.000000   \n",
       "availability_365                                      0.178260   \n",
       "number_of_reviews_ltm                                -0.047302   \n",
       "\n",
       "                                availability_365  number_of_reviews_ltm  \n",
       "id                                     -0.149791               0.067812  \n",
       "host_id                                 0.249349               0.106601  \n",
       "latitude                                     NaN                    NaN  \n",
       "longitude                               0.015947              -0.019009  \n",
       "price                                   0.047575              -0.015564  \n",
       "minimum_nights                         -0.059152              -0.205508  \n",
       "number_of_reviews                       0.090055               0.601824  \n",
       "reviews_per_month                       0.144498               0.788560  \n",
       "calculated_host_listings_count          0.178260              -0.047302  \n",
       "availability_365                        1.000000               0.136386  \n",
       "number_of_reviews_ltm                   0.136386               1.000000  "
      ]
     },
     "execution_count": 21,
     "metadata": {},
     "output_type": "execute_result"
    }
   ],
   "source": [
    "df.corr()"
   ]
  },
  {
   "cell_type": "code",
   "execution_count": 22,
   "id": "c61c94d4",
   "metadata": {},
   "outputs": [
    {
     "data": {
      "text/plain": [
       "count    37631.000000\n",
       "mean       166.224682\n",
       "std        306.763703\n",
       "min          0.000000\n",
       "25%         68.000000\n",
       "50%        112.000000\n",
       "75%        180.000000\n",
       "max      10000.000000\n",
       "Name: price, dtype: float64"
      ]
     },
     "execution_count": 22,
     "metadata": {},
     "output_type": "execute_result"
    }
   ],
   "source": [
    "df['price'].describe()\n",
    "#as we can see above that the average price for rental is 166.22 \n",
    "#it also shows that min price is 0, max is 1000."
   ]
  },
  {
   "cell_type": "code",
   "execution_count": 23,
   "id": "a0cca931",
   "metadata": {},
   "outputs": [],
   "source": [
    "q1_minimum_nights = df[\"minimum_nights\"].quantile(0.25)\n",
    "q1_minimum_nights\n",
    "q3_minimum_nights = df[\"minimum_nights\"].quantile(0.75)\n",
    "q3_minimum_nights \n",
    "IQR_minimum_nights = q3_minimum_nights - q1_minimum_nights\n",
    "upperbound_minimum_nights = q3_minimum_nights + (1.5 * IQR_minimum_nights)\n",
    "df = df.loc[~(df[\"minimum_nights\"]  > upperbound_minimum_nights), ]"
   ]
  },
  {
   "cell_type": "code",
   "execution_count": 24,
   "id": "a59871a6",
   "metadata": {},
   "outputs": [
    {
     "data": {
      "text/plain": [
       "<AxesSubplot:xlabel='minimum_nights'>"
      ]
     },
     "execution_count": 24,
     "metadata": {},
     "output_type": "execute_result"
    },
    {
     "data": {
      "image/png": "[encoded data removed]",
      "text/plain": [
       "<Figure size 432x288 with 1 Axes>"
      ]
     },
     "metadata": {
      "needs_background": "light"
     },
     "output_type": "display_data"
    }
   ],
   "source": [
    "sb.boxplot(x=df['minimum_nights'])"
   ]
  },
  {
   "cell_type": "code",
   "execution_count": 25,
   "id": "096c9645",
   "metadata": {},
   "outputs": [
    {
     "data": {
      "image/png": "[encoded data removed]",
      "text/plain": [
       "<Figure size 1440x504 with 2 Axes>"
      ]
     },
     "metadata": {
      "needs_background": "light"
     },
     "output_type": "display_data"
    }
   ],
   "source": [
    "fig, axes = plt.subplots(1,2, figsize = (20,7))\n",
    "sb.histplot(df[\"minimum_nights\"],bins = 10, ax = axes[0])\n",
    "plt.boxplot(df[\"minimum_nights\"],patch_artist = True)\n",
    "axes[0].set_title('stay')\n",
    "axes[1].set_title('price for rental')\n",
    "plt.tight_layout()\n",
    "plt.show()"
   ]
  },
  {
   "cell_type": "code",
   "execution_count": 26,
   "id": "c4b016b6",
   "metadata": {},
   "outputs": [],
   "source": [
    "q1_id = df[\"id\"].quantile(0.25)\n",
    "q1_id\n",
    "q3_id = df[\"id\"].quantile(0.75)\n",
    "q3_id \n",
    "IQR_id = q3_id - q1_id\n",
    "upperbound_id = q3_id + (1.5 * IQR_id)\n",
    "df = df.loc[~(df[\"id\"]  > upperbound_id), ]"
   ]
  },
  {
   "cell_type": "code",
   "execution_count": 27,
   "id": "7763731c",
   "metadata": {},
   "outputs": [
    {
     "data": {
      "text/plain": [
       "<AxesSubplot:xlabel='id'>"
      ]
     },
     "execution_count": 27,
     "metadata": {},
     "output_type": "execute_result"
    },
    {
     "data": {
      "image/png": "[encoded data removed]",
      "text/plain": [
       "<Figure size 432x288 with 1 Axes>"
      ]
     },
     "metadata": {
      "needs_background": "light"
     },
     "output_type": "display_data"
    }
   ],
   "source": [
    "sb.boxplot(x=df['id'])"
   ]
  },
  {
   "cell_type": "code",
   "execution_count": 28,
   "id": "1cc986b9",
   "metadata": {},
   "outputs": [
    {
     "data": {
      "image/png": "[encoded data removed]",
      "text/plain": [
       "<Figure size 1440x504 with 2 Axes>"
      ]
     },
     "metadata": {
      "needs_background": "light"
     },
     "output_type": "display_data"
    }
   ],
   "source": [
    "fig, axes = plt.subplots(1,2, figsize = (20,7))\n",
    "sb.histplot(df[\"id\"],bins = 10, ax = axes[0])\n",
    "plt.boxplot(df[\"id\"],patch_artist = True)\n",
    "axes[0].set_title('stay')\n",
    "axes[1].set_title('price for rental')\n",
    "plt.tight_layout()\n",
    "plt.show()"
   ]
  },
  {
   "cell_type": "code",
   "execution_count": 29,
   "id": "e800777b",
   "metadata": {},
   "outputs": [
    {
     "data": {
      "image/png": "[encoded data removed]",
      "text/plain": [
       "<Figure size 1440x504 with 2 Axes>"
      ]
     },
     "metadata": {
      "needs_background": "light"
     },
     "output_type": "display_data"
    }
   ],
   "source": [
    "fig, axes = plt.subplots(1,2, figsize = (20,7))\n",
    "sb.histplot(df[\"host_id\"],bins = 10, ax = axes[0])\n",
    "plt.boxplot(df[\"host_id\"],patch_artist = True)\n",
    "axes[0].set_title('name')\n",
    "axes[1].set_title('person')\n",
    "plt.tight_layout()\n",
    "plt.show()"
   ]
  },
  {
   "cell_type": "code",
   "execution_count": 30,
   "id": "2df3bafd",
   "metadata": {},
   "outputs": [],
   "source": [
    "q1_latitude = df[\"latitude\"].quantile(0.25)\n",
    "q1_latitude\n",
    "q3_latitude = df[\"latitude\"].quantile(0.75)\n",
    "q3_latitude\n",
    "IQR_latitude = q3_latitude - q1_latitude\n",
    "upperbound_latitude = q3_latitude + (1.5 * IQR_latitude)\n",
    "lowerbound_latitude = q1_latitude - (1.5 * IQR_latitude)\n",
    "df = df.loc[~(df[\"latitude\"]  > upperbound_latitude), ]\n",
    "df = df.loc[~(df[\"latitude\"]  > lowerbound_latitude), ]\n"
   ]
  },
  {
   "cell_type": "code",
   "execution_count": 31,
   "id": "f1af79e7",
   "metadata": {},
   "outputs": [
    {
     "data": {
      "text/plain": [
       "<AxesSubplot:xlabel='latitude'>"
      ]
     },
     "execution_count": 31,
     "metadata": {},
     "output_type": "execute_result"
    },
    {
     "data": {
      "image/png": "[encoded data removed]",
      "text/plain": [
       "<Figure size 432x288 with 1 Axes>"
      ]
     },
     "metadata": {
      "needs_background": "light"
     },
     "output_type": "display_data"
    }
   ],
   "source": [
    "sb.boxplot(x=df['latitude'])"
   ]
  },
  {
   "cell_type": "code",
   "execution_count": 32,
   "id": "a9908086",
   "metadata": {},
   "outputs": [
    {
     "data": {
      "image/png": "[encoded data removed]",
      "text/plain": [
       "<Figure size 1440x504 with 2 Axes>"
      ]
     },
     "metadata": {
      "needs_background": "light"
     },
     "output_type": "display_data"
    }
   ],
   "source": [
    "fig, axes = plt.subplots(1,2, figsize = (20,7))\n",
    "sb.histplot(df[\"latitude\"],bins = 10, ax = axes[0])\n",
    "plt.boxplot(df[\"latitude\"],patch_artist = True)\n",
    "axes[0].set_title('name')\n",
    "axes[1].set_title('person')\n",
    "plt.tight_layout()\n",
    "plt.show()"
   ]
  },
  {
   "cell_type": "code",
   "execution_count": 33,
   "id": "cb18a254",
   "metadata": {},
   "outputs": [
    {
     "data": {
      "text/plain": [
       "<AxesSubplot:xlabel='longitude'>"
      ]
     },
     "execution_count": 33,
     "metadata": {},
     "output_type": "execute_result"
    },
    {
     "data": {
      "image/png": "[encoded data removed]",
      "text/plain": [
       "<Figure size 432x288 with 1 Axes>"
      ]
     },
     "metadata": {
      "needs_background": "light"
     },
     "output_type": "display_data"
    }
   ],
   "source": [
    "sb.boxplot(x=df['longitude'])"
   ]
  },
  {
   "cell_type": "code",
   "execution_count": 34,
   "id": "83381ea0",
   "metadata": {},
   "outputs": [
    {
     "data": {
      "image/png": "[encoded data removed]",
      "text/plain": [
       "<Figure size 1440x504 with 2 Axes>"
      ]
     },
     "metadata": {
      "needs_background": "light"
     },
     "output_type": "display_data"
    }
   ],
   "source": [
    "fig, axes = plt.subplots(1,2, figsize = (20,7))\n",
    "sb.histplot(df[\"longitude\"],bins = 10, ax = axes[0])\n",
    "plt.boxplot(df[\"longitude\"],patch_artist = True)\n",
    "axes[0].set_title('name')\n",
    "axes[1].set_title('person')\n",
    "plt.tight_layout()\n",
    "plt.show()"
   ]
  },
  {
   "cell_type": "code",
   "execution_count": 35,
   "id": "95072b99",
   "metadata": {},
   "outputs": [],
   "source": [
    "q1_number_of_reviews = df[\"number_of_reviews\"].quantile(0.25)\n",
    "q1_number_of_reviews\n",
    "q3_number_of_reviews = df[\"number_of_reviews\"].quantile(0.75)\n",
    "q3_number_of_reviews \n",
    "IQR_number_of_reviews = q3_number_of_reviews - q1_number_of_reviews\n",
    "upperbound_number_of_reviews = q3_number_of_reviews + (1.5 * IQR_number_of_reviews)\n",
    "df = df.loc[~(df[\"number_of_reviews\"]  > upperbound_number_of_reviews), ]\n"
   ]
  },
  {
   "cell_type": "code",
   "execution_count": 36,
   "id": "599b4207",
   "metadata": {},
   "outputs": [
    {
     "data": {
      "text/plain": [
       "<AxesSubplot:xlabel='number_of_reviews'>"
      ]
     },
     "execution_count": 36,
     "metadata": {},
     "output_type": "execute_result"
    },
    {
     "data": {
      "image/png": "[encoded data removed]",
      "text/plain": [
       "<Figure size 432x288 with 1 Axes>"
      ]
     },
     "metadata": {
      "needs_background": "light"
     },
     "output_type": "display_data"
    }
   ],
   "source": [
    "sb.boxplot(x=df['number_of_reviews'])"
   ]
  },
  {
   "cell_type": "code",
   "execution_count": 37,
   "id": "084bc383",
   "metadata": {},
   "outputs": [
    {
     "data": {
      "image/png": "[encoded data removed]",
      "text/plain": [
       "<Figure size 1440x504 with 2 Axes>"
      ]
     },
     "metadata": {
      "needs_background": "light"
     },
     "output_type": "display_data"
    }
   ],
   "source": [
    "fig, axes = plt.subplots(1,2, figsize = (20,7))\n",
    "sb.histplot(df[\"number_of_reviews\"],bins = 10, ax = axes[0])\n",
    "plt.boxplot(df[\"number_of_reviews\"],patch_artist = True)\n",
    "axes[0].set_title('name')\n",
    "axes[1].set_title('person')\n",
    "plt.tight_layout()\n",
    "plt.show()"
   ]
  },
  {
   "cell_type": "code",
   "execution_count": 38,
   "id": "67c877c5",
   "metadata": {},
   "outputs": [],
   "source": [
    "q1_reviews_per_month = df[\"reviews_per_month\"].quantile(0.25)\n",
    "q1_reviews_per_month\n",
    "q3_reviews_per_month = df[\"reviews_per_month\"].quantile(0.75)\n",
    "q3_reviews_per_month \n",
    "IQR_reviews_per_month = q3_reviews_per_month - q1_reviews_per_month\n",
    "upperbound_reviews_per_month = q3_reviews_per_month + (1.5 * IQR_reviews_per_month)\n",
    "df = df.loc[~(df[\"reviews_per_month\"]  > upperbound_reviews_per_month), ]\n"
   ]
  },
  {
   "cell_type": "code",
   "execution_count": 39,
   "id": "e9d82aa2",
   "metadata": {
    "scrolled": true
   },
   "outputs": [
    {
     "data": {
      "text/plain": [
       "<AxesSubplot:xlabel='reviews_per_month'>"
      ]
     },
     "execution_count": 39,
     "metadata": {},
     "output_type": "execute_result"
    },
    {
     "data": {
      "image/png": "[encoded data removed]",
      "text/plain": [
       "<Figure size 432x288 with 1 Axes>"
      ]
     },
     "metadata": {
      "needs_background": "light"
     },
     "output_type": "display_data"
    }
   ],
   "source": [
    "sb.boxplot(x=df['reviews_per_month'])"
   ]
  },
  {
   "cell_type": "code",
   "execution_count": 40,
   "id": "c09875e1",
   "metadata": {},
   "outputs": [
    {
     "data": {
      "image/png": "[encoded data removed]",
      "text/plain": [
       "<Figure size 1440x504 with 2 Axes>"
      ]
     },
     "metadata": {
      "needs_background": "light"
     },
     "output_type": "display_data"
    }
   ],
   "source": [
    "fig, axes = plt.subplots(1,2, figsize = (20,7))\n",
    "sb.histplot(df[\"reviews_per_month\"],bins = 10, ax = axes[0])\n",
    "plt.boxplot(df[\"reviews_per_month\"],patch_artist = True)\n",
    "axes[0].set_title('name')\n",
    "axes[1].set_title('person')\n",
    "plt.tight_layout()\n",
    "plt.show()"
   ]
  },
  {
   "cell_type": "code",
   "execution_count": 41,
   "id": "dc7f7c59",
   "metadata": {},
   "outputs": [],
   "source": [
    "q1_calculated_host_listings_count = df[\"calculated_host_listings_count\"].quantile(0.25)\n",
    "q1_calculated_host_listings_count\n",
    "q3_calculated_host_listings_count = df[\"calculated_host_listings_count\"].quantile(0.75)\n",
    "q3_calculated_host_listings_count\n",
    "IQR_calculated_host_listings_count = q3_calculated_host_listings_count - q1_calculated_host_listings_count\n",
    "upperbound_calculated_host_listings_count = q3_calculated_host_listings_count + (1.5 * IQR_calculated_host_listings_count)\n",
    "df = df.loc[~(df[\"calculated_host_listings_count\"]  > upperbound_calculated_host_listings_count), ]\n"
   ]
  },
  {
   "cell_type": "code",
   "execution_count": 42,
   "id": "a2a56a1b",
   "metadata": {},
   "outputs": [
    {
     "data": {
      "text/plain": [
       "<AxesSubplot:xlabel='calculated_host_listings_count'>"
      ]
     },
     "execution_count": 42,
     "metadata": {},
     "output_type": "execute_result"
    },
    {
     "data": {
      "image/png": "[encoded data removed]",
      "text/plain": [
       "<Figure size 432x288 with 1 Axes>"
      ]
     },
     "metadata": {
      "needs_background": "light"
     },
     "output_type": "display_data"
    }
   ],
   "source": [
    "sb.boxplot(x=df['calculated_host_listings_count'])"
   ]
  },
  {
   "cell_type": "code",
   "execution_count": 43,
   "id": "d7253f80",
   "metadata": {},
   "outputs": [
    {
     "data": {
      "image/png": "[encoded data removed]",
      "text/plain": [
       "<Figure size 1440x504 with 2 Axes>"
      ]
     },
     "metadata": {
      "needs_background": "light"
     },
     "output_type": "display_data"
    }
   ],
   "source": [
    "fig, axes = plt.subplots(1,2, figsize = (20,7))\n",
    "sb.histplot(df[\"calculated_host_listings_count\"],bins = 10, ax = axes[0])\n",
    "plt.boxplot(df[\"calculated_host_listings_count\"],patch_artist = True)\n",
    "axes[0].set_title('name')\n",
    "axes[1].set_title('person')\n",
    "plt.tight_layout()\n",
    "plt.show()"
   ]
  },
  {
   "cell_type": "code",
   "execution_count": 44,
   "id": "db4f55bf",
   "metadata": {},
   "outputs": [],
   "source": [
    "q1_availability_365 = df[\"availability_365\"].quantile(0.25)\n",
    "q1_availability_365\n",
    "q3_availability_365 = df[\"availability_365\"].quantile(0.75)\n",
    "q3_availability_365\n",
    "IQR_availability_365 = q3_availability_365 - q1_availability_365\n",
    "upperbound_availability_365 = q3_availability_365 + (1.5 * IQR_availability_365)\n",
    "df = df.loc[~(df[\"availability_365\"]  > upperbound_availability_365), ]\n"
   ]
  },
  {
   "cell_type": "code",
   "execution_count": 45,
   "id": "63c8a6a9",
   "metadata": {},
   "outputs": [
    {
     "data": {
      "text/plain": [
       "<AxesSubplot:xlabel='availability_365'>"
      ]
     },
     "execution_count": 45,
     "metadata": {},
     "output_type": "execute_result"
    },
    {
     "data": {
      "image/png": "[encoded data removed]",
      "text/plain": [
       "<Figure size 432x288 with 1 Axes>"
      ]
     },
     "metadata": {
      "needs_background": "light"
     },
     "output_type": "display_data"
    }
   ],
   "source": [
    "sb.boxplot(x=df['availability_365'])"
   ]
  },
  {
   "cell_type": "code",
   "execution_count": 46,
   "id": "83006abf",
   "metadata": {},
   "outputs": [
    {
     "data": {
      "image/png": "[encoded data removed]",
      "text/plain": [
       "<Figure size 1440x504 with 2 Axes>"
      ]
     },
     "metadata": {
      "needs_background": "light"
     },
     "output_type": "display_data"
    }
   ],
   "source": [
    "fig, axes = plt.subplots(1,2, figsize = (20,7))\n",
    "sb.histplot(df[\"availability_365\"],bins = 10, ax = axes[0])\n",
    "plt.boxplot(df[\"availability_365\"],patch_artist = True)\n",
    "axes[0].set_title('name')\n",
    "axes[1].set_title('person')\n",
    "plt.tight_layout()\n",
    "plt.show()"
   ]
  },
  {
   "cell_type": "code",
   "execution_count": 47,
   "id": "bf7cd91a",
   "metadata": {},
   "outputs": [],
   "source": [
    "q1_number_of_reviews_ltm = df[\"number_of_reviews_ltm\"].quantile(0.25)\n",
    "q1_number_of_reviews_ltm\n",
    "q3_number_of_reviews_ltm = df[\"number_of_reviews_ltm\"].quantile(0.75)\n",
    "q3_number_of_reviews_ltm\n",
    "IQR_number_of_reviews_ltm = q3_number_of_reviews_ltm - q1_number_of_reviews_ltm\n",
    "upperbound_number_of_reviews_ltm = q3_number_of_reviews_ltm + (1.5 * IQR_number_of_reviews_ltm)\n",
    "df = df.loc[~(df[\"number_of_reviews_ltm\"]  > upperbound_number_of_reviews_ltm), ]\n"
   ]
  },
  {
   "cell_type": "code",
   "execution_count": 48,
   "id": "7cf1c8e9",
   "metadata": {},
   "outputs": [
    {
     "data": {
      "text/plain": [
       "<AxesSubplot:xlabel='number_of_reviews_ltm'>"
      ]
     },
     "execution_count": 48,
     "metadata": {},
     "output_type": "execute_result"
    },
    {
     "data": {
      "image/png": "[encoded data removed]",
      "text/plain": [
       "<Figure size 432x288 with 1 Axes>"
      ]
     },
     "metadata": {
      "needs_background": "light"
     },
     "output_type": "display_data"
    }
   ],
   "source": [
    "sb.boxplot(x=df['number_of_reviews_ltm'])"
   ]
  },
  {
   "cell_type": "code",
   "execution_count": 49,
   "id": "c7d78ebc",
   "metadata": {},
   "outputs": [
    {
     "data": {
      "image/png": "[encoded data removed]",
      "text/plain": [
       "<Figure size 1440x504 with 2 Axes>"
      ]
     },
     "metadata": {
      "needs_background": "light"
     },
     "output_type": "display_data"
    }
   ],
   "source": [
    "fig, axes = plt.subplots(1,2, figsize = (20,7))\n",
    "sb.histplot(df[\"number_of_reviews_ltm\"],bins = 10, ax = axes[0])\n",
    "plt.boxplot(df[\"number_of_reviews_ltm\"],patch_artist = True)\n",
    "axes[0].set_title('name')\n",
    "axes[1].set_title('person')\n",
    "plt.tight_layout()\n",
    "plt.show()"
   ]
  },
  {
   "cell_type": "code",
   "execution_count": 50,
   "id": "2802ff9e",
   "metadata": {},
   "outputs": [],
   "source": [
    "df[\"room_type\"] = df[\"room_type\"].astype(\"category\")"
   ]
  },
  {
   "cell_type": "code",
   "execution_count": 51,
   "id": "614bf826",
   "metadata": {},
   "outputs": [],
   "source": [
    "x = df.room_type.value_counts()"
   ]
  },
  {
   "cell_type": "code",
   "execution_count": 52,
   "id": "dc9d1d12",
   "metadata": {},
   "outputs": [
    {
     "data": {
      "text/plain": [
       "Entire home/apt    11599\n",
       "Private room        9587\n",
       "Shared room          405\n",
       "Hotel room            64\n",
       "Name: room_type, dtype: int64"
      ]
     },
     "execution_count": 52,
     "metadata": {},
     "output_type": "execute_result"
    }
   ],
   "source": [
    "x"
   ]
  },
  {
   "cell_type": "code",
   "execution_count": 53,
   "id": "256b632f",
   "metadata": {},
   "outputs": [],
   "source": [
    "x = df.groupby(\"room_type\").mean()*100"
   ]
  },
  {
   "cell_type": "code",
   "execution_count": 54,
   "id": "a8747de6",
   "metadata": {},
   "outputs": [
    {
     "data": {
      "text/html": [
       "<div>\n",
       "<style scoped>\n",
       "    .dataframe tbody tr th:only-of-type {\n",
       "        vertical-align: middle;\n",
       "    }\n",
       "\n",
       "    .dataframe tbody tr th {\n",
       "        vertical-align: top;\n",
       "    }\n",
       "\n",
       "    .dataframe thead th {\n",
       "        text-align: right;\n",
       "    }\n",
       "</style>\n",
       "<table border=\"1\" class=\"dataframe\">\n",
       "  <thead>\n",
       "    <tr style=\"text-align: right;\">\n",
       "      <th></th>\n",
       "      <th>id</th>\n",
       "      <th>host_id</th>\n",
       "      <th>latitude</th>\n",
       "      <th>longitude</th>\n",
       "      <th>price</th>\n",
       "      <th>minimum_nights</th>\n",
       "      <th>number_of_reviews</th>\n",
       "      <th>reviews_per_month</th>\n",
       "      <th>calculated_host_listings_count</th>\n",
       "      <th>availability_365</th>\n",
       "      <th>number_of_reviews_ltm</th>\n",
       "    </tr>\n",
       "    <tr>\n",
       "      <th>room_type</th>\n",
       "      <th></th>\n",
       "      <th></th>\n",
       "      <th></th>\n",
       "      <th></th>\n",
       "      <th></th>\n",
       "      <th></th>\n",
       "      <th></th>\n",
       "      <th></th>\n",
       "      <th></th>\n",
       "      <th></th>\n",
       "      <th></th>\n",
       "    </tr>\n",
       "  </thead>\n",
       "  <tbody>\n",
       "    <tr>\n",
       "      <th>Entire home/apt</th>\n",
       "      <td>-7.060621e+09</td>\n",
       "      <td>9.269621e+09</td>\n",
       "      <td>4000.0</td>\n",
       "      <td>-7308.983533</td>\n",
       "      <td>22159.867230</td>\n",
       "      <td>2198.017070</td>\n",
       "      <td>676.403138</td>\n",
       "      <td>32.011380</td>\n",
       "      <td>148.633503</td>\n",
       "      <td>8294.318476</td>\n",
       "      <td>68.799034</td>\n",
       "    </tr>\n",
       "    <tr>\n",
       "      <th>Hotel room</th>\n",
       "      <td>3.749191e+09</td>\n",
       "      <td>2.574107e+10</td>\n",
       "      <td>4000.0</td>\n",
       "      <td>-7314.062500</td>\n",
       "      <td>19448.437500</td>\n",
       "      <td>982.812500</td>\n",
       "      <td>331.250000</td>\n",
       "      <td>54.687500</td>\n",
       "      <td>306.250000</td>\n",
       "      <td>9548.437500</td>\n",
       "      <td>43.750000</td>\n",
       "    </tr>\n",
       "    <tr>\n",
       "      <th>Private room</th>\n",
       "      <td>-6.185698e+09</td>\n",
       "      <td>1.094230e+10</td>\n",
       "      <td>4000.0</td>\n",
       "      <td>-7304.766872</td>\n",
       "      <td>10614.144154</td>\n",
       "      <td>2125.784917</td>\n",
       "      <td>635.287368</td>\n",
       "      <td>35.433399</td>\n",
       "      <td>188.140190</td>\n",
       "      <td>8632.773548</td>\n",
       "      <td>46.260561</td>\n",
       "    </tr>\n",
       "    <tr>\n",
       "      <th>Shared room</th>\n",
       "      <td>-6.642622e+09</td>\n",
       "      <td>1.525709e+10</td>\n",
       "      <td>4000.0</td>\n",
       "      <td>-7305.679012</td>\n",
       "      <td>18040.740741</td>\n",
       "      <td>2108.395062</td>\n",
       "      <td>566.419753</td>\n",
       "      <td>42.469136</td>\n",
       "      <td>259.753086</td>\n",
       "      <td>11720.987654</td>\n",
       "      <td>39.259259</td>\n",
       "    </tr>\n",
       "  </tbody>\n",
       "</table>\n",
       "</div>"
      ],
      "text/plain": [
       "                           id       host_id  latitude    longitude  \\\n",
       "room_type                                                            \n",
       "Entire home/apt -7.060621e+09  9.269621e+09    4000.0 -7308.983533   \n",
       "Hotel room       3.749191e+09  2.574107e+10    4000.0 -7314.062500   \n",
       "Private room    -6.185698e+09  1.094230e+10    4000.0 -7304.766872   \n",
       "Shared room     -6.642622e+09  1.525709e+10    4000.0 -7305.679012   \n",
       "\n",
       "                        price  minimum_nights  number_of_reviews  \\\n",
       "room_type                                                          \n",
       "Entire home/apt  22159.867230     2198.017070         676.403138   \n",
       "Hotel room       19448.437500      982.812500         331.250000   \n",
       "Private room     10614.144154     2125.784917         635.287368   \n",
       "Shared room      18040.740741     2108.395062         566.419753   \n",
       "\n",
       "                 reviews_per_month  calculated_host_listings_count  \\\n",
       "room_type                                                            \n",
       "Entire home/apt          32.011380                      148.633503   \n",
       "Hotel room               54.687500                      306.250000   \n",
       "Private room             35.433399                      188.140190   \n",
       "Shared room              42.469136                      259.753086   \n",
       "\n",
       "                 availability_365  number_of_reviews_ltm  \n",
       "room_type                                                 \n",
       "Entire home/apt       8294.318476              68.799034  \n",
       "Hotel room            9548.437500              43.750000  \n",
       "Private room          8632.773548              46.260561  \n",
       "Shared room          11720.987654              39.259259  "
      ]
     },
     "execution_count": 54,
     "metadata": {},
     "output_type": "execute_result"
    }
   ],
   "source": [
    "x"
   ]
  },
  {
   "cell_type": "code",
   "execution_count": 55,
   "id": "20122bd0",
   "metadata": {},
   "outputs": [
    {
     "data": {
      "text/plain": [
       "([<matplotlib.patches.Wedge at 0x1f9c007d7c0>,\n",
       "  <matplotlib.patches.Wedge at 0x1f9c007d700>,\n",
       "  <matplotlib.patches.Wedge at 0x1f9c00789d0>,\n",
       "  <matplotlib.patches.Wedge at 0x1f9c0078160>],\n",
       " [Text(0.6028163107070297, 0.920115479461989, 'Entire home/apt'),\n",
       "  Text(-1.0539411635987497, 0.31497305229513445, 'Hotel room'),\n",
       "  Text(-0.5437481126910114, -0.9562102226733216, 'Private room'),\n",
       "  Text(0.7611260740498023, -0.794158107307062, 'Shared room')])"
      ]
     },
     "execution_count": 55,
     "metadata": {},
     "output_type": "execute_result"
    },
    {
     "data": {
      "image/png": "[encoded data removed]",
      "text/plain": [
       "<Figure size 432x288 with 1 Axes>"
      ]
     },
     "metadata": {},
     "output_type": "display_data"
    }
   ],
   "source": [
    "plt.pie(x[\"price\"], labels = x.index)"
   ]
  },
  {
   "cell_type": "code",
   "execution_count": 56,
   "id": "3540fa06",
   "metadata": {},
   "outputs": [
    {
     "data": {
      "text/html": [
       "<div>\n",
       "<style scoped>\n",
       "    .dataframe tbody tr th:only-of-type {\n",
       "        vertical-align: middle;\n",
       "    }\n",
       "\n",
       "    .dataframe tbody tr th {\n",
       "        vertical-align: top;\n",
       "    }\n",
       "\n",
       "    .dataframe thead th {\n",
       "        text-align: right;\n",
       "    }\n",
       "</style>\n",
       "<table border=\"1\" class=\"dataframe\">\n",
       "  <thead>\n",
       "    <tr style=\"text-align: right;\">\n",
       "      <th></th>\n",
       "      <th>location</th>\n",
       "      <th>number</th>\n",
       "    </tr>\n",
       "  </thead>\n",
       "  <tbody>\n",
       "    <tr>\n",
       "      <th>0</th>\n",
       "      <td>Bronx</td>\n",
       "      <td>690</td>\n",
       "    </tr>\n",
       "    <tr>\n",
       "      <th>1</th>\n",
       "      <td>Brooklyn</td>\n",
       "      <td>8984</td>\n",
       "    </tr>\n",
       "    <tr>\n",
       "      <th>2</th>\n",
       "      <td>Manhattan</td>\n",
       "      <td>9051</td>\n",
       "    </tr>\n",
       "    <tr>\n",
       "      <th>3</th>\n",
       "      <td>Queens</td>\n",
       "      <td>2774</td>\n",
       "    </tr>\n",
       "    <tr>\n",
       "      <th>4</th>\n",
       "      <td>Staten Island</td>\n",
       "      <td>156</td>\n",
       "    </tr>\n",
       "  </tbody>\n",
       "</table>\n",
       "</div>"
      ],
      "text/plain": [
       "        location  number\n",
       "0          Bronx     690\n",
       "1       Brooklyn    8984\n",
       "2      Manhattan    9051\n",
       "3         Queens    2774\n",
       "4  Staten Island     156"
      ]
     },
     "execution_count": 56,
     "metadata": {},
     "output_type": "execute_result"
    }
   ],
   "source": [
    "by_area = pd.Series(df['neighbourhood_group']).value_counts().sort_index()\n",
    "by_area.index = pd.Index(by_area.index)\n",
    "df_area = by_area.rename_axis('location').reset_index(name='number')\n",
    "df_area"
   ]
  },
  {
   "cell_type": "code",
   "execution_count": 57,
   "id": "741cf2ae",
   "metadata": {
    "scrolled": true
   },
   "outputs": [
    {
     "data": {
      "image/png": "[encoded data removed]",
      "text/plain": [
       "<Figure size 432x288 with 1 Axes>"
      ]
     },
     "metadata": {},
     "output_type": "display_data"
    }
   ],
   "source": [
    "plt.pie(df_area[\"number\"],labels=df_area[\"location\"],autopct='%1.1f%%')  \n",
    "plt.title(\"neighbourhood_group\")\n",
    "plt.show()"
   ]
  },
  {
   "cell_type": "code",
   "execution_count": 60,
   "id": "dd896f92",
   "metadata": {},
   "outputs": [],
   "source": [
    "df[\"name\"] = df[\"name\"].astype(\"category\")"
   ]
  },
  {
   "cell_type": "code",
   "execution_count": 61,
   "id": "abb77a2e",
   "metadata": {},
   "outputs": [],
   "source": [
    "df[\"neighbourhood_group\"] = df[\"neighbourhood_group\"].astype(\"category\")"
   ]
  },
  {
   "cell_type": "code",
   "execution_count": 62,
   "id": "cdb1626a",
   "metadata": {},
   "outputs": [],
   "source": [
    "y = df.neighbourhood_group.value_counts()"
   ]
  },
  {
   "cell_type": "code",
   "execution_count": 63,
   "id": "1e05810e",
   "metadata": {},
   "outputs": [
    {
     "data": {
      "text/plain": [
       "Manhattan        9051\n",
       "Brooklyn         8984\n",
       "Queens           2774\n",
       "Bronx             690\n",
       "Staten Island     156\n",
       "Name: neighbourhood_group, dtype: int64"
      ]
     },
     "execution_count": 63,
     "metadata": {},
     "output_type": "execute_result"
    }
   ],
   "source": [
    "y"
   ]
  },
  {
   "cell_type": "code",
   "execution_count": 64,
   "id": "318ed7ef",
   "metadata": {},
   "outputs": [
    {
     "data": {
      "text/plain": [
       "Index(['Bronx', 'Brooklyn', 'Manhattan', 'Queens', 'Staten Island'], dtype='object')"
      ]
     },
     "execution_count": 64,
     "metadata": {},
     "output_type": "execute_result"
    }
   ],
   "source": [
    "y.index.categories"
   ]
  },
  {
   "cell_type": "code",
   "execution_count": 65,
   "id": "3f820f8a",
   "metadata": {},
   "outputs": [],
   "source": [
    "df[\"neighbourhood\"] = df[\"neighbourhood\"].astype(\"category\")"
   ]
  },
  {
   "cell_type": "code",
   "execution_count": 66,
   "id": "a9c12995",
   "metadata": {},
   "outputs": [
    {
     "data": {
      "text/plain": [
       "id                                         int32\n",
       "name                                    category\n",
       "host_id                                    int64\n",
       "neighbourhood_group                     category\n",
       "neighbourhood                           category\n",
       "latitude                                   int32\n",
       "longitude                                  int32\n",
       "room_type                               category\n",
       "price                                      int64\n",
       "minimum_nights                             int64\n",
       "number_of_reviews                          int64\n",
       "reviews_per_month                          int32\n",
       "calculated_host_listings_count             int64\n",
       "availability_365                           int64\n",
       "number_of_reviews_ltm                      int64\n",
       "license                                   object\n",
       "latest_review                     datetime64[ns]\n",
       "dtype: object"
      ]
     },
     "execution_count": 66,
     "metadata": {},
     "output_type": "execute_result"
    }
   ],
   "source": [
    "df.dtypes"
   ]
  },
  {
   "cell_type": "code",
   "execution_count": 67,
   "id": "411661b8",
   "metadata": {
    "scrolled": true
   },
   "outputs": [
    {
     "data": {
      "image/png": "[encoded data removed]",
      "text/plain": [
       "<Figure size 1080x360 with 1 Axes>"
      ]
     },
     "metadata": {
      "needs_background": "light"
     },
     "output_type": "display_data"
    }
   ],
   "source": [
    "plt.figure(figsize=(15,5))\n",
    "sb.barplot(x = df[\"neighbourhood_group\"], y = df[\"availability_365\"]) \n",
    "plt.title(\"available rentls\" ,weight = \"bold\", size = 20)\n",
    "plt.xlabel('area', fontsize = 15 )\n",
    "plt.ylabel(\"available day\", fontsize = 15)\n",
    "plt.xticks(rotation=90, fontsize = 12)\n",
    "plt.yticks( fontsize = 12)\n",
    "plt.show()"
   ]
  },
  {
   "cell_type": "code",
   "execution_count": 68,
   "id": "79b2e231",
   "metadata": {},
   "outputs": [
    {
     "name": "stdout",
     "output_type": "stream",
     "text": [
      "category: ['name', 'neighbourhood_group', 'neighbourhood', 'room_type', 'license', 'latest_review']\n"
     ]
    }
   ],
   "source": [
    "numeric = []\n",
    "category = []\n",
    "for col in df:\n",
    "    if pd.api.types.is_numeric_dtype(df[col]):\n",
    "        numeric.append(col)\n",
    "    else:\n",
    "        category.append(col)\n",
    "print(\"category:\", category)"
   ]
  },
  {
   "cell_type": "code",
   "execution_count": 69,
   "id": "dcba4027",
   "metadata": {},
   "outputs": [
    {
     "data": {
      "text/plain": [
       "['Entire home/apt', 'Private room', 'Shared room', 'Hotel room']\n",
       "Categories (4, object): ['Entire home/apt', 'Private room', 'Shared room', 'Hotel room']"
      ]
     },
     "execution_count": 69,
     "metadata": {},
     "output_type": "execute_result"
    }
   ],
   "source": [
    "df[\"room_type\"].unique()"
   ]
  },
  {
   "cell_type": "code",
   "execution_count": 70,
   "id": "5951580a",
   "metadata": {},
   "outputs": [
    {
     "data": {
      "text/plain": [
       "array(['2019-11-04T00:00:00.000000000', '2019-12-02T00:00:00.000000000',\n",
       "       '2021-08-08T00:00:00.000000000', ...,\n",
       "       '2022-03-27T00:00:00.000000000', '2021-05-13T00:00:00.000000000',\n",
       "       '2022-03-15T00:00:00.000000000'], dtype='datetime64[ns]')"
      ]
     },
     "execution_count": 70,
     "metadata": {},
     "output_type": "execute_result"
    }
   ],
   "source": [
    "df[\"latest_review\"].unique()"
   ]
  },
  {
   "cell_type": "code",
   "execution_count": 71,
   "id": "7e8ef8c5",
   "metadata": {},
   "outputs": [],
   "source": [
    "countroomtype = df.room_type[df['room_type']==\"Entire home/apt\"].count()\n",
    "countroomtype1 = df.room_type[df['room_type']== 'Private room'].count()"
   ]
  },
  {
   "cell_type": "code",
   "execution_count": 72,
   "id": "dfdca4eb",
   "metadata": {
    "scrolled": true
   },
   "outputs": [
    {
     "data": {
      "text/plain": [
       "11599"
      ]
     },
     "execution_count": 72,
     "metadata": {},
     "output_type": "execute_result"
    }
   ],
   "source": [
    "countroomtype"
   ]
  },
  {
   "cell_type": "code",
   "execution_count": 73,
   "id": "6883bddc",
   "metadata": {
    "scrolled": true
   },
   "outputs": [
    {
     "data": {
      "image/png": "[encoded data removed]",
      "text/plain": [
       "<Figure size 432x288 with 1 Axes>"
      ]
     },
     "metadata": {},
     "output_type": "display_data"
    }
   ],
   "source": [
    "countroomtype = df.room_type[df['room_type']== \"Entire home/apt\"].count()\n",
    "countroomtype1 = df.room_type[df['room_type']== \"Private room\"].count()\n",
    "\n",
    "labels = ['rental 1', 'rental 2']\n",
    "slices = [countroomtype, countroomtype1]\n",
    "explode = [0.1,0]\n",
    "\n",
    "plt.pie(slices, labels = labels,shadow=True,\n",
    "       startangle = (+60), explode = explode, autopct = '%1.1f%%',\n",
    "       wedgeprops = {'edgecolor' : 'black'})\n",
    "plt.axis('equal')\n",
    "plt.title(\"room_type\")\n",
    "plt.legend()\n",
    "plt.tight_layout()\n",
    "\n",
    "plt.show()"
   ]
  },
  {
   "cell_type": "code",
   "execution_count": 74,
   "id": "210ba7d9",
   "metadata": {
    "scrolled": true
   },
   "outputs": [
    {
     "data": {
      "text/plain": [
       "Text(0.5, 1.0, 'Room Type vs Price')"
      ]
     },
     "execution_count": 74,
     "metadata": {},
     "output_type": "execute_result"
    },
    {
     "data": {
      "image/png": "[encoded data removed]",
      "text/plain": [
       "<Figure size 1080x864 with 1 Axes>"
      ]
     },
     "metadata": {
      "needs_background": "light"
     },
     "output_type": "display_data"
    }
   ],
   "source": [
    "plt.figure(figsize=(15,12))\n",
    "sb.scatterplot(x='room_type', y='price', data=df)\n",
    "\n",
    "plt.xlabel(\"Room Type\", size=10)\n",
    "plt.ylabel(\"Price\", size=10)\n",
    "plt.title(\"Room Type vs Price\",size=15, weight='bold')"
   ]
  },
  {
   "cell_type": "code",
   "execution_count": 75,
   "id": "ffcfd4f2",
   "metadata": {},
   "outputs": [
    {
     "data": {
      "text/plain": [
       "Text(0.5, 1.0, 'Room Type vs Price vs Neighbourhood Group')"
      ]
     },
     "execution_count": 75,
     "metadata": {},
     "output_type": "execute_result"
    },
    {
     "data": {
      "image/png": "[encoded data removed]",
      "text/plain": [
       "<Figure size 1440x1080 with 1 Axes>"
      ]
     },
     "metadata": {
      "needs_background": "light"
     },
     "output_type": "display_data"
    }
   ],
   "source": [
    "plt.figure(figsize=(20,15))\n",
    "sb.scatterplot(x=\"room_type\", y=\"price\",\n",
    "            hue=\"neighbourhood_group\", size=\"neighbourhood_group\",\n",
    "            sizes=(50, 200), palette=\"Dark2\", data=df)\n",
    "\n",
    "plt.xlabel(\"Room Type\", size=10)\n",
    "plt.ylabel(\"Price\", size=10)\n",
    "plt.title(\"Room Type vs Price vs Neighbourhood Group\",size=15, weight='bold')"
   ]
  },
  {
   "cell_type": "code",
   "execution_count": 76,
   "id": "13408aaa",
   "metadata": {},
   "outputs": [
    {
     "data": {
      "text/plain": [
       "Text(0.5, 1.0, 'Price vs Number of Reviews vs Neighbourhood Group')"
      ]
     },
     "execution_count": 76,
     "metadata": {},
     "output_type": "execute_result"
    },
    {
     "data": {
      "image/png": "[encoded data removed]",
      "text/plain": [
       "<Figure size 1440x1080 with 1 Axes>"
      ]
     },
     "metadata": {
      "needs_background": "light"
     },
     "output_type": "display_data"
    }
   ],
   "source": [
    "plt.figure(figsize=(20,15))\n",
    "sb.set_palette(\"Set1\")\n",
    "\n",
    "sb.lineplot(x='price', y='number_of_reviews', \n",
    "             data=df[df['neighbourhood_group']=='Brooklyn'],\n",
    "             label='Brooklyn')\n",
    "sb.lineplot(x='price', y='number_of_reviews', \n",
    "             data=df[df['neighbourhood_group']=='Manhattan'],\n",
    "             label='Manhattan')\n",
    "sb.lineplot(x='price', y='number_of_reviews', \n",
    "             data=df[df['neighbourhood_group']=='Queens'],\n",
    "             label='Queens')\n",
    "sb.lineplot(x='price', y='number_of_reviews', \n",
    "             data=df[df['neighbourhood_group']=='Staten Island'],\n",
    "             label='Staten Island')\n",
    "sb.lineplot(x='price', y='number_of_reviews', \n",
    "             data=df[df['neighbourhood_group']=='Bronx'],\n",
    "             label='Bronx')\n",
    "plt.xlabel(\"Price\", size=10)\n",
    "plt.ylabel(\"Number of Reviews\", size=10)\n",
    "plt.title(\"Price vs Number of Reviews vs Neighbourhood Group\",size=15, weight='bold')"
   ]
  },
  {
   "cell_type": "code",
   "execution_count": 77,
   "id": "73043ef3",
   "metadata": {
    "scrolled": false
   },
   "outputs": [
    {
     "data": {
      "text/plain": [
       "Text(0.5, 1.0, 'Correlation Matrix')"
      ]
     },
     "execution_count": 77,
     "metadata": {},
     "output_type": "execute_result"
    },
    {
     "data": {
      "image/png": "[encoded data removed]",
      "text/plain": [
       "<Figure size 1080x864 with 2 Axes>"
      ]
     },
     "metadata": {
      "needs_background": "light"
     },
     "output_type": "display_data"
    }
   ],
   "source": [
    "plt.figure(figsize=(15,12))\n",
    "palette = sb.diverging_palette(20, 220, n=256)\n",
    "corr=df.corr(method='pearson')\n",
    "sb.heatmap(corr, annot=True, fmt=\".2f\", cmap=palette, vmax=.3, center=0,\n",
    "            square=True, linewidths=.5, cbar_kws={\"shrink\": .5}).set(ylim=(11, 0))\n",
    "plt.title(\"Correlation Matrix\",size=15, weight='bold')"
   ]
  },
  {
   "cell_type": "code",
   "execution_count": 78,
   "id": "ded27fdb",
   "metadata": {
    "scrolled": true
   },
   "outputs": [
    {
     "data": {
      "text/html": [
       "<div>\n",
       "<style scoped>\n",
       "    .dataframe tbody tr th:only-of-type {\n",
       "        vertical-align: middle;\n",
       "    }\n",
       "\n",
       "    .dataframe tbody tr th {\n",
       "        vertical-align: top;\n",
       "    }\n",
       "\n",
       "    .dataframe thead th {\n",
       "        text-align: right;\n",
       "    }\n",
       "</style>\n",
       "<table border=\"1\" class=\"dataframe\">\n",
       "  <thead>\n",
       "    <tr style=\"text-align: right;\">\n",
       "      <th></th>\n",
       "      <th>neighbourhood_group</th>\n",
       "      <th>room_type</th>\n",
       "      <th>availability_365</th>\n",
       "      <th>minimum_nights</th>\n",
       "      <th>calculated_host_listings_count</th>\n",
       "      <th>reviews_per_month</th>\n",
       "      <th>number_of_reviews</th>\n",
       "    </tr>\n",
       "  </thead>\n",
       "  <tbody>\n",
       "    <tr>\n",
       "      <th>0</th>\n",
       "      <td>Manhattan</td>\n",
       "      <td>Entire home/apt</td>\n",
       "      <td>334</td>\n",
       "      <td>30</td>\n",
       "      <td>3</td>\n",
       "      <td>0</td>\n",
       "      <td>48</td>\n",
       "    </tr>\n",
       "    <tr>\n",
       "      <th>1</th>\n",
       "      <td>Brooklyn</td>\n",
       "      <td>Private room</td>\n",
       "      <td>365</td>\n",
       "      <td>30</td>\n",
       "      <td>2</td>\n",
       "      <td>0</td>\n",
       "      <td>50</td>\n",
       "    </tr>\n",
       "    <tr>\n",
       "      <th>2</th>\n",
       "      <td>Brooklyn</td>\n",
       "      <td>Entire home/apt</td>\n",
       "      <td>201</td>\n",
       "      <td>5</td>\n",
       "      <td>1</td>\n",
       "      <td>0</td>\n",
       "      <td>2</td>\n",
       "    </tr>\n",
       "    <tr>\n",
       "      <th>7</th>\n",
       "      <td>Manhattan</td>\n",
       "      <td>Private room</td>\n",
       "      <td>365</td>\n",
       "      <td>30</td>\n",
       "      <td>2</td>\n",
       "      <td>1</td>\n",
       "      <td>0</td>\n",
       "    </tr>\n",
       "    <tr>\n",
       "      <th>9</th>\n",
       "      <td>Brooklyn</td>\n",
       "      <td>Private room</td>\n",
       "      <td>63</td>\n",
       "      <td>27</td>\n",
       "      <td>2</td>\n",
       "      <td>0</td>\n",
       "      <td>9</td>\n",
       "    </tr>\n",
       "  </tbody>\n",
       "</table>\n",
       "</div>"
      ],
      "text/plain": [
       "  neighbourhood_group        room_type  availability_365  minimum_nights  \\\n",
       "0           Manhattan  Entire home/apt               334              30   \n",
       "1            Brooklyn     Private room               365              30   \n",
       "2            Brooklyn  Entire home/apt               201               5   \n",
       "7           Manhattan     Private room               365              30   \n",
       "9            Brooklyn     Private room                63              27   \n",
       "\n",
       "   calculated_host_listings_count  reviews_per_month  number_of_reviews  \n",
       "0                               3                  0                 48  \n",
       "1                               2                  0                 50  \n",
       "2                               1                  0                  2  \n",
       "7                               2                  1                  0  \n",
       "9                               2                  0                  9  "
      ]
     },
     "execution_count": 78,
     "metadata": {},
     "output_type": "execute_result"
    }
   ],
   "source": [
    "airbnb_features=df[['neighbourhood_group','room_type','availability_365','minimum_nights','calculated_host_listings_count','reviews_per_month','number_of_reviews']]\n",
    "airbnb_features.head()"
   ]
  },
  {
   "cell_type": "code",
   "execution_count": 79,
   "id": "29a3748c",
   "metadata": {
    "scrolled": true
   },
   "outputs": [
    {
     "data": {
      "text/html": [
       "<div>\n",
       "<style scoped>\n",
       "    .dataframe tbody tr th:only-of-type {\n",
       "        vertical-align: middle;\n",
       "    }\n",
       "\n",
       "    .dataframe tbody tr th {\n",
       "        vertical-align: top;\n",
       "    }\n",
       "\n",
       "    .dataframe thead th {\n",
       "        text-align: right;\n",
       "    }\n",
       "</style>\n",
       "<table border=\"1\" class=\"dataframe\">\n",
       "  <thead>\n",
       "    <tr style=\"text-align: right;\">\n",
       "      <th></th>\n",
       "      <th>id</th>\n",
       "      <th>name</th>\n",
       "      <th>host_id</th>\n",
       "      <th>neighbourhood_group</th>\n",
       "      <th>neighbourhood</th>\n",
       "      <th>latitude</th>\n",
       "      <th>longitude</th>\n",
       "      <th>room_type</th>\n",
       "      <th>price</th>\n",
       "      <th>minimum_nights</th>\n",
       "      <th>number_of_reviews</th>\n",
       "      <th>reviews_per_month</th>\n",
       "      <th>calculated_host_listings_count</th>\n",
       "      <th>availability_365</th>\n",
       "      <th>number_of_reviews_ltm</th>\n",
       "      <th>license</th>\n",
       "      <th>latest_review</th>\n",
       "    </tr>\n",
       "  </thead>\n",
       "  <tbody>\n",
       "    <tr>\n",
       "      <th>0</th>\n",
       "      <td>2595</td>\n",
       "      <td>Skylit Midtown Castle</td>\n",
       "      <td>2845</td>\n",
       "      <td>Manhattan</td>\n",
       "      <td>Midtown</td>\n",
       "      <td>40</td>\n",
       "      <td>-73</td>\n",
       "      <td>Entire home/apt</td>\n",
       "      <td>150</td>\n",
       "      <td>30</td>\n",
       "      <td>48</td>\n",
       "      <td>0</td>\n",
       "      <td>3</td>\n",
       "      <td>334</td>\n",
       "      <td>0</td>\n",
       "      <td>NaN</td>\n",
       "      <td>2019-11-04</td>\n",
       "    </tr>\n",
       "    <tr>\n",
       "      <th>1</th>\n",
       "      <td>5121</td>\n",
       "      <td>BlissArtsSpace!</td>\n",
       "      <td>7356</td>\n",
       "      <td>Brooklyn</td>\n",
       "      <td>Bedford-Stuyvesant</td>\n",
       "      <td>40</td>\n",
       "      <td>-73</td>\n",
       "      <td>Private room</td>\n",
       "      <td>60</td>\n",
       "      <td>30</td>\n",
       "      <td>50</td>\n",
       "      <td>0</td>\n",
       "      <td>2</td>\n",
       "      <td>365</td>\n",
       "      <td>0</td>\n",
       "      <td>NaN</td>\n",
       "      <td>2019-12-02</td>\n",
       "    </tr>\n",
       "    <tr>\n",
       "      <th>2</th>\n",
       "      <td>5136</td>\n",
       "      <td>Spacious Brooklyn Duplex, Patio + Garden</td>\n",
       "      <td>7378</td>\n",
       "      <td>Brooklyn</td>\n",
       "      <td>Sunset Park</td>\n",
       "      <td>40</td>\n",
       "      <td>-73</td>\n",
       "      <td>Entire home/apt</td>\n",
       "      <td>275</td>\n",
       "      <td>5</td>\n",
       "      <td>2</td>\n",
       "      <td>0</td>\n",
       "      <td>1</td>\n",
       "      <td>201</td>\n",
       "      <td>1</td>\n",
       "      <td>NaN</td>\n",
       "      <td>2021-08-08</td>\n",
       "    </tr>\n",
       "    <tr>\n",
       "      <th>7</th>\n",
       "      <td>6872</td>\n",
       "      <td>Uptown Sanctuary w/ Private Bath (Month to Month)</td>\n",
       "      <td>16104</td>\n",
       "      <td>Manhattan</td>\n",
       "      <td>East Harlem</td>\n",
       "      <td>40</td>\n",
       "      <td>-73</td>\n",
       "      <td>Private room</td>\n",
       "      <td>65</td>\n",
       "      <td>30</td>\n",
       "      <td>0</td>\n",
       "      <td>1</td>\n",
       "      <td>2</td>\n",
       "      <td>365</td>\n",
       "      <td>0</td>\n",
       "      <td>NaN</td>\n",
       "      <td>NaT</td>\n",
       "    </tr>\n",
       "    <tr>\n",
       "      <th>9</th>\n",
       "      <td>7064</td>\n",
       "      <td>Amazing location! Wburg. Large, bright &amp; tranquil</td>\n",
       "      <td>17297</td>\n",
       "      <td>Brooklyn</td>\n",
       "      <td>Williamsburg</td>\n",
       "      <td>40</td>\n",
       "      <td>-73</td>\n",
       "      <td>Private room</td>\n",
       "      <td>90</td>\n",
       "      <td>27</td>\n",
       "      <td>9</td>\n",
       "      <td>0</td>\n",
       "      <td>2</td>\n",
       "      <td>63</td>\n",
       "      <td>0</td>\n",
       "      <td>NaN</td>\n",
       "      <td>2015-08-31</td>\n",
       "    </tr>\n",
       "    <tr>\n",
       "      <th>...</th>\n",
       "      <td>...</td>\n",
       "      <td>...</td>\n",
       "      <td>...</td>\n",
       "      <td>...</td>\n",
       "      <td>...</td>\n",
       "      <td>...</td>\n",
       "      <td>...</td>\n",
       "      <td>...</td>\n",
       "      <td>...</td>\n",
       "      <td>...</td>\n",
       "      <td>...</td>\n",
       "      <td>...</td>\n",
       "      <td>...</td>\n",
       "      <td>...</td>\n",
       "      <td>...</td>\n",
       "      <td>...</td>\n",
       "      <td>...</td>\n",
       "    </tr>\n",
       "    <tr>\n",
       "      <th>37623</th>\n",
       "      <td>-2147483648</td>\n",
       "      <td>Amazing 1 private bed room in Manhattan.</td>\n",
       "      <td>428874795</td>\n",
       "      <td>Manhattan</td>\n",
       "      <td>Upper West Side</td>\n",
       "      <td>40</td>\n",
       "      <td>-73</td>\n",
       "      <td>Private room</td>\n",
       "      <td>76</td>\n",
       "      <td>1</td>\n",
       "      <td>0</td>\n",
       "      <td>1</td>\n",
       "      <td>1</td>\n",
       "      <td>364</td>\n",
       "      <td>0</td>\n",
       "      <td>NaN</td>\n",
       "      <td>NaT</td>\n",
       "    </tr>\n",
       "    <tr>\n",
       "      <th>37625</th>\n",
       "      <td>-2147483648</td>\n",
       "      <td>Homey, modern townhouse with W/D and backyard</td>\n",
       "      <td>433972903</td>\n",
       "      <td>Bronx</td>\n",
       "      <td>Mott Haven</td>\n",
       "      <td>40</td>\n",
       "      <td>-73</td>\n",
       "      <td>Private room</td>\n",
       "      <td>55</td>\n",
       "      <td>21</td>\n",
       "      <td>0</td>\n",
       "      <td>1</td>\n",
       "      <td>8</td>\n",
       "      <td>90</td>\n",
       "      <td>0</td>\n",
       "      <td>NaN</td>\n",
       "      <td>NaT</td>\n",
       "    </tr>\n",
       "    <tr>\n",
       "      <th>37627</th>\n",
       "      <td>-2147483648</td>\n",
       "      <td>CONTACT BEFORE YOU BOOK R2</td>\n",
       "      <td>192407842</td>\n",
       "      <td>Manhattan</td>\n",
       "      <td>Harlem</td>\n",
       "      <td>40</td>\n",
       "      <td>-73</td>\n",
       "      <td>Private room</td>\n",
       "      <td>35</td>\n",
       "      <td>60</td>\n",
       "      <td>0</td>\n",
       "      <td>1</td>\n",
       "      <td>7</td>\n",
       "      <td>365</td>\n",
       "      <td>0</td>\n",
       "      <td>NaN</td>\n",
       "      <td>NaT</td>\n",
       "    </tr>\n",
       "    <tr>\n",
       "      <th>37628</th>\n",
       "      <td>-2147483648</td>\n",
       "      <td>CONTACT BEFORE YOU BOOK R1</td>\n",
       "      <td>192407842</td>\n",
       "      <td>Manhattan</td>\n",
       "      <td>Harlem</td>\n",
       "      <td>40</td>\n",
       "      <td>-73</td>\n",
       "      <td>Private room</td>\n",
       "      <td>28</td>\n",
       "      <td>30</td>\n",
       "      <td>0</td>\n",
       "      <td>1</td>\n",
       "      <td>7</td>\n",
       "      <td>334</td>\n",
       "      <td>0</td>\n",
       "      <td>NaN</td>\n",
       "      <td>NaT</td>\n",
       "    </tr>\n",
       "    <tr>\n",
       "      <th>37629</th>\n",
       "      <td>-2147483648</td>\n",
       "      <td>Super cosy and charming apartment</td>\n",
       "      <td>319140756</td>\n",
       "      <td>Manhattan</td>\n",
       "      <td>Lower East Side</td>\n",
       "      <td>40</td>\n",
       "      <td>-73</td>\n",
       "      <td>Private room</td>\n",
       "      <td>84</td>\n",
       "      <td>1</td>\n",
       "      <td>0</td>\n",
       "      <td>1</td>\n",
       "      <td>1</td>\n",
       "      <td>357</td>\n",
       "      <td>0</td>\n",
       "      <td>NaN</td>\n",
       "      <td>NaT</td>\n",
       "    </tr>\n",
       "  </tbody>\n",
       "</table>\n",
       "<p>21655 rows × 17 columns</p>\n",
       "</div>"
      ],
      "text/plain": [
       "               id                                               name  \\\n",
       "0            2595                              Skylit Midtown Castle   \n",
       "1            5121                                    BlissArtsSpace!   \n",
       "2            5136           Spacious Brooklyn Duplex, Patio + Garden   \n",
       "7            6872  Uptown Sanctuary w/ Private Bath (Month to Month)   \n",
       "9            7064  Amazing location! Wburg. Large, bright & tranquil   \n",
       "...           ...                                                ...   \n",
       "37623 -2147483648           Amazing 1 private bed room in Manhattan.   \n",
       "37625 -2147483648      Homey, modern townhouse with W/D and backyard   \n",
       "37627 -2147483648                         CONTACT BEFORE YOU BOOK R2   \n",
       "37628 -2147483648                         CONTACT BEFORE YOU BOOK R1   \n",
       "37629 -2147483648                  Super cosy and charming apartment   \n",
       "\n",
       "         host_id neighbourhood_group       neighbourhood  latitude  longitude  \\\n",
       "0           2845           Manhattan             Midtown        40        -73   \n",
       "1           7356            Brooklyn  Bedford-Stuyvesant        40        -73   \n",
       "2           7378            Brooklyn         Sunset Park        40        -73   \n",
       "7          16104           Manhattan         East Harlem        40        -73   \n",
       "9          17297            Brooklyn        Williamsburg        40        -73   \n",
       "...          ...                 ...                 ...       ...        ...   \n",
       "37623  428874795           Manhattan     Upper West Side        40        -73   \n",
       "37625  433972903               Bronx          Mott Haven        40        -73   \n",
       "37627  192407842           Manhattan              Harlem        40        -73   \n",
       "37628  192407842           Manhattan              Harlem        40        -73   \n",
       "37629  319140756           Manhattan     Lower East Side        40        -73   \n",
       "\n",
       "             room_type  price  minimum_nights  number_of_reviews  \\\n",
       "0      Entire home/apt    150              30                 48   \n",
       "1         Private room     60              30                 50   \n",
       "2      Entire home/apt    275               5                  2   \n",
       "7         Private room     65              30                  0   \n",
       "9         Private room     90              27                  9   \n",
       "...                ...    ...             ...                ...   \n",
       "37623     Private room     76               1                  0   \n",
       "37625     Private room     55              21                  0   \n",
       "37627     Private room     35              60                  0   \n",
       "37628     Private room     28              30                  0   \n",
       "37629     Private room     84               1                  0   \n",
       "\n",
       "       reviews_per_month  calculated_host_listings_count  availability_365  \\\n",
       "0                      0                               3               334   \n",
       "1                      0                               2               365   \n",
       "2                      0                               1               201   \n",
       "7                      1                               2               365   \n",
       "9                      0                               2                63   \n",
       "...                  ...                             ...               ...   \n",
       "37623                  1                               1               364   \n",
       "37625                  1                               8                90   \n",
       "37627                  1                               7               365   \n",
       "37628                  1                               7               334   \n",
       "37629                  1                               1               357   \n",
       "\n",
       "       number_of_reviews_ltm license latest_review  \n",
       "0                          0     NaN    2019-11-04  \n",
       "1                          0     NaN    2019-12-02  \n",
       "2                          1     NaN    2021-08-08  \n",
       "7                          0     NaN           NaT  \n",
       "9                          0     NaN    2015-08-31  \n",
       "...                      ...     ...           ...  \n",
       "37623                      0     NaN           NaT  \n",
       "37625                      0     NaN           NaT  \n",
       "37627                      0     NaN           NaT  \n",
       "37628                      0     NaN           NaT  \n",
       "37629                      0     NaN           NaT  \n",
       "\n",
       "[21655 rows x 17 columns]"
      ]
     },
     "execution_count": 79,
     "metadata": {},
     "output_type": "execute_result"
    }
   ],
   "source": [
    "df"
   ]
  },
  {
   "cell_type": "code",
   "execution_count": 80,
   "id": "5da4f459",
   "metadata": {
    "scrolled": true
   },
   "outputs": [
    {
     "data": {
      "text/html": [
       "<div>\n",
       "<style scoped>\n",
       "    .dataframe tbody tr th:only-of-type {\n",
       "        vertical-align: middle;\n",
       "    }\n",
       "\n",
       "    .dataframe tbody tr th {\n",
       "        vertical-align: top;\n",
       "    }\n",
       "\n",
       "    .dataframe thead th {\n",
       "        text-align: right;\n",
       "    }\n",
       "</style>\n",
       "<table border=\"1\" class=\"dataframe\">\n",
       "  <thead>\n",
       "    <tr style=\"text-align: right;\">\n",
       "      <th></th>\n",
       "      <th>price</th>\n",
       "      <th>minimum_nights</th>\n",
       "      <th>number_of_reviews</th>\n",
       "      <th>reviews_per_month</th>\n",
       "      <th>calculated_host_listings_count</th>\n",
       "      <th>availability_365</th>\n",
       "    </tr>\n",
       "  </thead>\n",
       "  <tbody>\n",
       "    <tr>\n",
       "      <th>0</th>\n",
       "      <td>150</td>\n",
       "      <td>30</td>\n",
       "      <td>48</td>\n",
       "      <td>0</td>\n",
       "      <td>3</td>\n",
       "      <td>334</td>\n",
       "    </tr>\n",
       "    <tr>\n",
       "      <th>1</th>\n",
       "      <td>60</td>\n",
       "      <td>30</td>\n",
       "      <td>50</td>\n",
       "      <td>0</td>\n",
       "      <td>2</td>\n",
       "      <td>365</td>\n",
       "    </tr>\n",
       "    <tr>\n",
       "      <th>2</th>\n",
       "      <td>275</td>\n",
       "      <td>5</td>\n",
       "      <td>2</td>\n",
       "      <td>0</td>\n",
       "      <td>1</td>\n",
       "      <td>201</td>\n",
       "    </tr>\n",
       "    <tr>\n",
       "      <th>7</th>\n",
       "      <td>65</td>\n",
       "      <td>30</td>\n",
       "      <td>0</td>\n",
       "      <td>1</td>\n",
       "      <td>2</td>\n",
       "      <td>365</td>\n",
       "    </tr>\n",
       "    <tr>\n",
       "      <th>9</th>\n",
       "      <td>90</td>\n",
       "      <td>27</td>\n",
       "      <td>9</td>\n",
       "      <td>0</td>\n",
       "      <td>2</td>\n",
       "      <td>63</td>\n",
       "    </tr>\n",
       "    <tr>\n",
       "      <th>...</th>\n",
       "      <td>...</td>\n",
       "      <td>...</td>\n",
       "      <td>...</td>\n",
       "      <td>...</td>\n",
       "      <td>...</td>\n",
       "      <td>...</td>\n",
       "    </tr>\n",
       "    <tr>\n",
       "      <th>37623</th>\n",
       "      <td>76</td>\n",
       "      <td>1</td>\n",
       "      <td>0</td>\n",
       "      <td>1</td>\n",
       "      <td>1</td>\n",
       "      <td>364</td>\n",
       "    </tr>\n",
       "    <tr>\n",
       "      <th>37625</th>\n",
       "      <td>55</td>\n",
       "      <td>21</td>\n",
       "      <td>0</td>\n",
       "      <td>1</td>\n",
       "      <td>8</td>\n",
       "      <td>90</td>\n",
       "    </tr>\n",
       "    <tr>\n",
       "      <th>37627</th>\n",
       "      <td>35</td>\n",
       "      <td>60</td>\n",
       "      <td>0</td>\n",
       "      <td>1</td>\n",
       "      <td>7</td>\n",
       "      <td>365</td>\n",
       "    </tr>\n",
       "    <tr>\n",
       "      <th>37628</th>\n",
       "      <td>28</td>\n",
       "      <td>30</td>\n",
       "      <td>0</td>\n",
       "      <td>1</td>\n",
       "      <td>7</td>\n",
       "      <td>334</td>\n",
       "    </tr>\n",
       "    <tr>\n",
       "      <th>37629</th>\n",
       "      <td>84</td>\n",
       "      <td>1</td>\n",
       "      <td>0</td>\n",
       "      <td>1</td>\n",
       "      <td>1</td>\n",
       "      <td>357</td>\n",
       "    </tr>\n",
       "  </tbody>\n",
       "</table>\n",
       "<p>21655 rows × 6 columns</p>\n",
       "</div>"
      ],
      "text/plain": [
       "       price  minimum_nights  number_of_reviews  reviews_per_month  \\\n",
       "0        150              30                 48                  0   \n",
       "1         60              30                 50                  0   \n",
       "2        275               5                  2                  0   \n",
       "7         65              30                  0                  1   \n",
       "9         90              27                  9                  0   \n",
       "...      ...             ...                ...                ...   \n",
       "37623     76               1                  0                  1   \n",
       "37625     55              21                  0                  1   \n",
       "37627     35              60                  0                  1   \n",
       "37628     28              30                  0                  1   \n",
       "37629     84               1                  0                  1   \n",
       "\n",
       "       calculated_host_listings_count  availability_365  \n",
       "0                                   3               334  \n",
       "1                                   2               365  \n",
       "2                                   1               201  \n",
       "7                                   2               365  \n",
       "9                                   2                63  \n",
       "...                               ...               ...  \n",
       "37623                               1               364  \n",
       "37625                               8                90  \n",
       "37627                               7               365  \n",
       "37628                               7               334  \n",
       "37629                               1               357  \n",
       "\n",
       "[21655 rows x 6 columns]"
      ]
     },
     "execution_count": 80,
     "metadata": {},
     "output_type": "execute_result"
    }
   ],
   "source": [
    "X = df[['price','minimum_nights','number_of_reviews','reviews_per_month','calculated_host_listings_count','availability_365']]\n",
    "X"
   ]
  },
  {
   "cell_type": "code",
   "execution_count": 81,
   "id": "41c2b5d5",
   "metadata": {},
   "outputs": [],
   "source": [
    "y = df[['number_of_reviews_ltm']]"
   ]
  },
  {
   "cell_type": "code",
   "execution_count": 82,
   "id": "ed32bb39",
   "metadata": {},
   "outputs": [
    {
     "data": {
      "text/html": [
       "<div>\n",
       "<style scoped>\n",
       "    .dataframe tbody tr th:only-of-type {\n",
       "        vertical-align: middle;\n",
       "    }\n",
       "\n",
       "    .dataframe tbody tr th {\n",
       "        vertical-align: top;\n",
       "    }\n",
       "\n",
       "    .dataframe thead th {\n",
       "        text-align: right;\n",
       "    }\n",
       "</style>\n",
       "<table border=\"1\" class=\"dataframe\">\n",
       "  <thead>\n",
       "    <tr style=\"text-align: right;\">\n",
       "      <th></th>\n",
       "      <th>number_of_reviews_ltm</th>\n",
       "    </tr>\n",
       "  </thead>\n",
       "  <tbody>\n",
       "    <tr>\n",
       "      <th>0</th>\n",
       "      <td>0</td>\n",
       "    </tr>\n",
       "    <tr>\n",
       "      <th>1</th>\n",
       "      <td>0</td>\n",
       "    </tr>\n",
       "    <tr>\n",
       "      <th>2</th>\n",
       "      <td>1</td>\n",
       "    </tr>\n",
       "    <tr>\n",
       "      <th>7</th>\n",
       "      <td>0</td>\n",
       "    </tr>\n",
       "    <tr>\n",
       "      <th>9</th>\n",
       "      <td>0</td>\n",
       "    </tr>\n",
       "    <tr>\n",
       "      <th>...</th>\n",
       "      <td>...</td>\n",
       "    </tr>\n",
       "    <tr>\n",
       "      <th>37623</th>\n",
       "      <td>0</td>\n",
       "    </tr>\n",
       "    <tr>\n",
       "      <th>37625</th>\n",
       "      <td>0</td>\n",
       "    </tr>\n",
       "    <tr>\n",
       "      <th>37627</th>\n",
       "      <td>0</td>\n",
       "    </tr>\n",
       "    <tr>\n",
       "      <th>37628</th>\n",
       "      <td>0</td>\n",
       "    </tr>\n",
       "    <tr>\n",
       "      <th>37629</th>\n",
       "      <td>0</td>\n",
       "    </tr>\n",
       "  </tbody>\n",
       "</table>\n",
       "<p>21655 rows × 1 columns</p>\n",
       "</div>"
      ],
      "text/plain": [
       "       number_of_reviews_ltm\n",
       "0                          0\n",
       "1                          0\n",
       "2                          1\n",
       "7                          0\n",
       "9                          0\n",
       "...                      ...\n",
       "37623                      0\n",
       "37625                      0\n",
       "37627                      0\n",
       "37628                      0\n",
       "37629                      0\n",
       "\n",
       "[21655 rows x 1 columns]"
      ]
     },
     "execution_count": 82,
     "metadata": {},
     "output_type": "execute_result"
    }
   ],
   "source": [
    "y"
   ]
  },
  {
   "cell_type": "code",
   "execution_count": 83,
   "id": "d27846cf",
   "metadata": {},
   "outputs": [],
   "source": [
    "from sklearn.model_selection import train_test_split\n",
    "X_train, X_test, y_train, y_test = train_test_split(X,y,test_size=0.2,random_state=10)"
   ]
  },
  {
   "cell_type": "code",
   "execution_count": 84,
   "id": "147dab1a",
   "metadata": {},
   "outputs": [
    {
     "data": {
      "text/plain": [
       "(17324, 6)"
      ]
     },
     "execution_count": 84,
     "metadata": {},
     "output_type": "execute_result"
    }
   ],
   "source": [
    "X_train.shape"
   ]
  },
  {
   "cell_type": "code",
   "execution_count": 85,
   "id": "6cdbcbad",
   "metadata": {},
   "outputs": [
    {
     "data": {
      "text/plain": [
       "(17324, 1)"
      ]
     },
     "execution_count": 85,
     "metadata": {},
     "output_type": "execute_result"
    }
   ],
   "source": [
    "y_train.shape"
   ]
  },
  {
   "cell_type": "code",
   "execution_count": 86,
   "id": "873f214d",
   "metadata": {},
   "outputs": [
    {
     "data": {
      "text/plain": [
       "(4331, 1)"
      ]
     },
     "execution_count": 86,
     "metadata": {},
     "output_type": "execute_result"
    }
   ],
   "source": [
    "y_test.shape"
   ]
  },
  {
   "cell_type": "code",
   "execution_count": 87,
   "id": "2115dfd2",
   "metadata": {},
   "outputs": [
    {
     "data": {
      "text/plain": [
       "(4331, 6)"
      ]
     },
     "execution_count": 87,
     "metadata": {},
     "output_type": "execute_result"
    }
   ],
   "source": [
    "X_test.shape"
   ]
  },
  {
   "cell_type": "code",
   "execution_count": 88,
   "id": "98fd91f1",
   "metadata": {},
   "outputs": [],
   "source": [
    "from sklearn.linear_model import LogisticRegression"
   ]
  },
  {
   "cell_type": "code",
   "execution_count": 89,
   "id": "07d324b9",
   "metadata": {},
   "outputs": [],
   "source": [
    "\n",
    "from sklearn.metrics import accuracy_score"
   ]
  },
  {
   "cell_type": "code",
   "execution_count": 90,
   "id": "01d43aad",
   "metadata": {},
   "outputs": [],
   "source": [
    "LR_model = LogisticRegression()"
   ]
  },
  {
   "cell_type": "code",
   "execution_count": 91,
   "id": "573200b6",
   "metadata": {},
   "outputs": [
    {
     "data": {
      "text/plain": [
       "LogisticRegression()"
      ]
     },
     "execution_count": 91,
     "metadata": {},
     "output_type": "execute_result"
    }
   ],
   "source": [
    "LR_model.fit(X_train, y_train)"
   ]
  },
  {
   "cell_type": "code",
   "execution_count": 92,
   "id": "1636cd26",
   "metadata": {},
   "outputs": [
    {
     "data": {
      "text/plain": [
       "array([0, 0, 0, ..., 0, 0, 0], dtype=int64)"
      ]
     },
     "execution_count": 92,
     "metadata": {},
     "output_type": "execute_result"
    }
   ],
   "source": [
    "LR_pred = LR_model.predict(X_test)\n",
    "LR_pred"
   ]
  },
  {
   "cell_type": "code",
   "execution_count": 93,
   "id": "fe9fef94",
   "metadata": {},
   "outputs": [],
   "source": [
    "lr_ac = accuracy_score(y_test, LR_pred)*100"
   ]
  },
  {
   "cell_type": "code",
   "execution_count": 94,
   "id": "0ca555e8",
   "metadata": {},
   "outputs": [
    {
     "data": {
      "text/plain": [
       "74.80951281459247"
      ]
     },
     "execution_count": 94,
     "metadata": {},
     "output_type": "execute_result"
    }
   ],
   "source": [
    "lr_ac"
   ]
  },
  {
   "cell_type": "code",
   "execution_count": 95,
   "id": "b288590b",
   "metadata": {},
   "outputs": [],
   "source": [
    "from sklearn.svm import SVC"
   ]
  },
  {
   "cell_type": "code",
   "execution_count": 96,
   "id": "95b3d266",
   "metadata": {},
   "outputs": [],
   "source": [
    "model_svc = SVC()"
   ]
  },
  {
   "cell_type": "code",
   "execution_count": 97,
   "id": "c48861dd",
   "metadata": {},
   "outputs": [
    {
     "data": {
      "text/plain": [
       "SVC()"
      ]
     },
     "execution_count": 97,
     "metadata": {},
     "output_type": "execute_result"
    }
   ],
   "source": [
    "model_svc.fit(X_train,y_train)"
   ]
  },
  {
   "cell_type": "code",
   "execution_count": 98,
   "id": "8df4ace8",
   "metadata": {},
   "outputs": [],
   "source": [
    "svc_pred = model_svc.predict(X_test)"
   ]
  },
  {
   "cell_type": "code",
   "execution_count": 99,
   "id": "f0288c47",
   "metadata": {},
   "outputs": [
    {
     "data": {
      "text/plain": [
       "array([0, 0, 0, ..., 0, 0, 0], dtype=int64)"
      ]
     },
     "execution_count": 99,
     "metadata": {},
     "output_type": "execute_result"
    }
   ],
   "source": [
    "svc_pred"
   ]
  },
  {
   "cell_type": "code",
   "execution_count": 100,
   "id": "83ebfde9",
   "metadata": {},
   "outputs": [
    {
     "data": {
      "text/plain": [
       "75.57146155622259"
      ]
     },
     "execution_count": 100,
     "metadata": {},
     "output_type": "execute_result"
    }
   ],
   "source": [
    "svc_ac = accuracy_score(y_test, svc_pred)*100\n",
    "svc_ac"
   ]
  },
  {
   "cell_type": "code",
   "execution_count": 102,
   "id": "7b742a7c",
   "metadata": {},
   "outputs": [
    {
     "name": "stdout",
     "output_type": "stream",
     "text": [
      "Requirement already satisfied: xgboost in c:\\programdata\\anaconda3\\lib\\site-packages (1.6.1)\n",
      "Requirement already satisfied: scipy in c:\\programdata\\anaconda3\\lib\\site-packages (from xgboost) (1.6.2)\n",
      "Requirement already satisfied: numpy in c:\\programdata\\anaconda3\\lib\\site-packages (from xgboost) (1.20.1)\n"
     ]
    }
   ],
   "source": [
    "!pip install xgboost"
   ]
  },
  {
   "cell_type": "code",
   "execution_count": 103,
   "id": "1903abb0",
   "metadata": {},
   "outputs": [],
   "source": [
    "import xgboost as xgb"
   ]
  },
  {
   "cell_type": "code",
   "execution_count": 104,
   "id": "a1d9add5",
   "metadata": {},
   "outputs": [],
   "source": [
    "xgb_classifier = xgb.XGBClassifier()"
   ]
  },
  {
   "cell_type": "code",
   "execution_count": 105,
   "id": "3e973a28",
   "metadata": {
    "scrolled": true
   },
   "outputs": [
    {
     "data": {
      "text/plain": [
       "XGBClassifier(base_score=0.5, booster='gbtree', callbacks=None,\n",
       "              colsample_bylevel=1, colsample_bynode=1, colsample_bytree=1,\n",
       "              early_stopping_rounds=None, enable_categorical=False,\n",
       "              eval_metric=None, gamma=0, gpu_id=-1, grow_policy='depthwise',\n",
       "              importance_type=None, interaction_constraints='',\n",
       "              learning_rate=0.300000012, max_bin=256, max_cat_to_onehot=4,\n",
       "              max_delta_step=0, max_depth=6, max_leaves=0, min_child_weight=1,\n",
       "              missing=nan, monotone_constraints='()', n_estimators=100,\n",
       "              n_jobs=0, num_parallel_tree=1, objective='multi:softprob',\n",
       "              predictor='auto', random_state=0, reg_alpha=0, ...)"
      ]
     },
     "execution_count": 105,
     "metadata": {},
     "output_type": "execute_result"
    }
   ],
   "source": [
    "xgb_classifier.fit(X_train, y_train)\n"
   ]
  },
  {
   "cell_type": "code",
   "execution_count": 106,
   "id": "cac68107",
   "metadata": {},
   "outputs": [],
   "source": [
    "xgb_pred = xgb_classifier.predict(X_test)"
   ]
  },
  {
   "cell_type": "code",
   "execution_count": 107,
   "id": "f351b650",
   "metadata": {},
   "outputs": [
    {
     "data": {
      "text/plain": [
       "array([0, 0, 0, ..., 0, 0, 0], dtype=int64)"
      ]
     },
     "execution_count": 107,
     "metadata": {},
     "output_type": "execute_result"
    }
   ],
   "source": [
    "xgb_pred"
   ]
  },
  {
   "cell_type": "code",
   "execution_count": 108,
   "id": "d2fd8846",
   "metadata": {},
   "outputs": [
    {
     "data": {
      "text/plain": [
       "84.06834449318865"
      ]
     },
     "execution_count": 108,
     "metadata": {},
     "output_type": "execute_result"
    }
   ],
   "source": [
    "xgb_ac = accuracy_score(y_test, xgb_pred)*100\n",
    "xgb_ac"
   ]
  }
 ],
 "metadata": {
  "kernelspec": {
   "display_name": "Python 3",
   "language": "python",
   "name": "python3"
  },
  "language_info": {
   "codemirror_mode": {
    "name": "ipython",
    "version": 3
   },
   "file_extension": ".py",
   "mimetype": "text/x-python",
   "name": "python",
   "nbconvert_exporter": "python",
   "pygments_lexer": "ipython3",
   "version": "3.8.8"
  }
 },
 "nbformat": 4,
 "nbformat_minor": 5
}
